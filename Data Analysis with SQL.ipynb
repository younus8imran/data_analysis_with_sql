{
 "metadata": {
  "language_info": {
   "codemirror_mode": {
    "name": "ipython",
    "version": 3
   },
   "file_extension": ".py",
   "mimetype": "text/x-python",
   "name": "python",
   "nbconvert_exporter": "python",
   "pygments_lexer": "ipython3",
   "version": "3.8.3"
  },
  "orig_nbformat": 4,
  "kernelspec": {
   "name": "python3",
   "display_name": "Python 3.8.3 64-bit ('base': conda)"
  },
  "interpreter": {
   "hash": "2ba1a29c871a60d5b3426625e71f086c43bd6925b7ce85125f571ce4dea831d0"
  }
 },
 "nbformat": 4,
 "nbformat_minor": 2,
 "cells": [
  {
   "source": [
    "## Data Analysis of European Soccer Database with SQL "
   ],
   "cell_type": "markdown",
   "metadata": {}
  },
  {
   "cell_type": "code",
   "execution_count": 1,
   "metadata": {},
   "outputs": [],
   "source": [
    "# importing the necessary libraries\n",
    "import pandas as pd \n",
    "import sqlite3 "
   ]
  },
  {
   "cell_type": "code",
   "execution_count": 2,
   "metadata": {},
   "outputs": [],
   "source": [
    "# connecting the database\n",
    "conn = sqlite3.connect('database.sqlite')\n",
    "c = conn.cursor()"
   ]
  },
  {
   "cell_type": "code",
   "execution_count": 3,
   "metadata": {},
   "outputs": [
    {
     "output_type": "stream",
     "name": "stdout",
     "text": [
      "['sqlite_sequence']\n['Player_Attributes']\n['Player']\n['Match']\n['League']\n['Country']\n['Team']\n['Team_Attributes']\n"
     ]
    }
   ],
   "source": [
    "# printing all the tables present in database.sqlite \n",
    "for row in c.execute(\"SELECT name FROM sqlite_master WHERE type='table';\"):\n",
    "    print(list(row))"
   ]
  },
  {
   "cell_type": "code",
   "execution_count": 4,
   "metadata": {},
   "outputs": [
    {
     "output_type": "execute_result",
     "data": {
      "text/plain": [
       "    player_api_id         player_name  player_fifa_api_id  \\\n",
       "id                                                          \n",
       "1          505942  Aaron Appindangoye              218353   \n",
       "2          155782     Aaron Cresswell              189615   \n",
       "3          162549         Aaron Doran              186170   \n",
       "4           30572       Aaron Galindo              140161   \n",
       "5           23780        Aaron Hughes               17725   \n",
       "\n",
       "               birthday  height  weight  \n",
       "id                                       \n",
       "1   1992-02-29 00:00:00  182.88     187  \n",
       "2   1989-12-15 00:00:00  170.18     146  \n",
       "3   1991-05-13 00:00:00  170.18     163  \n",
       "4   1982-05-08 00:00:00  182.88     198  \n",
       "5   1979-11-08 00:00:00  182.88     154  "
      ],
      "text/html": "<div>\n<style scoped>\n    .dataframe tbody tr th:only-of-type {\n        vertical-align: middle;\n    }\n\n    .dataframe tbody tr th {\n        vertical-align: top;\n    }\n\n    .dataframe thead th {\n        text-align: right;\n    }\n</style>\n<table border=\"1\" class=\"dataframe\">\n  <thead>\n    <tr style=\"text-align: right;\">\n      <th></th>\n      <th>player_api_id</th>\n      <th>player_name</th>\n      <th>player_fifa_api_id</th>\n      <th>birthday</th>\n      <th>height</th>\n      <th>weight</th>\n    </tr>\n    <tr>\n      <th>id</th>\n      <th></th>\n      <th></th>\n      <th></th>\n      <th></th>\n      <th></th>\n      <th></th>\n    </tr>\n  </thead>\n  <tbody>\n    <tr>\n      <th>1</th>\n      <td>505942</td>\n      <td>Aaron Appindangoye</td>\n      <td>218353</td>\n      <td>1992-02-29 00:00:00</td>\n      <td>182.88</td>\n      <td>187</td>\n    </tr>\n    <tr>\n      <th>2</th>\n      <td>155782</td>\n      <td>Aaron Cresswell</td>\n      <td>189615</td>\n      <td>1989-12-15 00:00:00</td>\n      <td>170.18</td>\n      <td>146</td>\n    </tr>\n    <tr>\n      <th>3</th>\n      <td>162549</td>\n      <td>Aaron Doran</td>\n      <td>186170</td>\n      <td>1991-05-13 00:00:00</td>\n      <td>170.18</td>\n      <td>163</td>\n    </tr>\n    <tr>\n      <th>4</th>\n      <td>30572</td>\n      <td>Aaron Galindo</td>\n      <td>140161</td>\n      <td>1982-05-08 00:00:00</td>\n      <td>182.88</td>\n      <td>198</td>\n    </tr>\n    <tr>\n      <th>5</th>\n      <td>23780</td>\n      <td>Aaron Hughes</td>\n      <td>17725</td>\n      <td>1979-11-08 00:00:00</td>\n      <td>182.88</td>\n      <td>154</td>\n    </tr>\n  </tbody>\n</table>\n</div>"
     },
     "metadata": {},
     "execution_count": 4
    }
   ],
   "source": [
    "# selecting first five rows from player table\n",
    "player = pd.read_sql_query(\n",
    "    '''\n",
    "        SELECT * FROM Player\n",
    "        LIMIT 5\n",
    "    ''', conn, index_col='id'\n",
    ")\n",
    "player"
   ]
  },
  {
   "cell_type": "code",
   "execution_count": 5,
   "metadata": {},
   "outputs": [
    {
     "output_type": "execute_result",
     "data": {
      "text/plain": [
       "    country_id  league_id     season  stage                 date  \\\n",
       "id                                                                 \n",
       "1            1          1  2008/2009      1  2008-08-17 00:00:00   \n",
       "2            1          1  2008/2009      1  2008-08-16 00:00:00   \n",
       "3            1          1  2008/2009      1  2008-08-16 00:00:00   \n",
       "4            1          1  2008/2009      1  2008-08-17 00:00:00   \n",
       "5            1          1  2008/2009      1  2008-08-16 00:00:00   \n",
       "\n",
       "    match_api_id  home_team_api_id  away_team_api_id  home_team_goal  \\\n",
       "id                                                                     \n",
       "1         492473              9987              9993               1   \n",
       "2         492474             10000              9994               0   \n",
       "3         492475              9984              8635               0   \n",
       "4         492476              9991              9998               5   \n",
       "5         492477              7947              9985               1   \n",
       "\n",
       "    away_team_goal  ...   SJA   VCH   VCD   VCA   GBH   GBD   GBA   BSH   BSD  \\\n",
       "id                  ...                                                         \n",
       "1                1  ...  4.00  1.65  3.40  4.50  1.78  3.25  4.00  1.73  3.40   \n",
       "2                0  ...  3.80  2.00  3.25  3.25  1.85  3.25  3.75  1.91  3.25   \n",
       "3                3  ...  2.50  2.35  3.25  2.65  2.50  3.20  2.50  2.30  3.20   \n",
       "4                0  ...  7.50  1.45  3.75  6.50  1.50  3.75  5.50  1.44  3.75   \n",
       "5                3  ...  1.73  4.50  3.40  1.65  4.50  3.50  1.65  4.75  3.30   \n",
       "\n",
       "     BSA  \n",
       "id        \n",
       "1   4.20  \n",
       "2   3.60  \n",
       "3   2.75  \n",
       "4   6.50  \n",
       "5   1.67  \n",
       "\n",
       "[5 rows x 114 columns]"
      ],
      "text/html": "<div>\n<style scoped>\n    .dataframe tbody tr th:only-of-type {\n        vertical-align: middle;\n    }\n\n    .dataframe tbody tr th {\n        vertical-align: top;\n    }\n\n    .dataframe thead th {\n        text-align: right;\n    }\n</style>\n<table border=\"1\" class=\"dataframe\">\n  <thead>\n    <tr style=\"text-align: right;\">\n      <th></th>\n      <th>country_id</th>\n      <th>league_id</th>\n      <th>season</th>\n      <th>stage</th>\n      <th>date</th>\n      <th>match_api_id</th>\n      <th>home_team_api_id</th>\n      <th>away_team_api_id</th>\n      <th>home_team_goal</th>\n      <th>away_team_goal</th>\n      <th>...</th>\n      <th>SJA</th>\n      <th>VCH</th>\n      <th>VCD</th>\n      <th>VCA</th>\n      <th>GBH</th>\n      <th>GBD</th>\n      <th>GBA</th>\n      <th>BSH</th>\n      <th>BSD</th>\n      <th>BSA</th>\n    </tr>\n    <tr>\n      <th>id</th>\n      <th></th>\n      <th></th>\n      <th></th>\n      <th></th>\n      <th></th>\n      <th></th>\n      <th></th>\n      <th></th>\n      <th></th>\n      <th></th>\n      <th></th>\n      <th></th>\n      <th></th>\n      <th></th>\n      <th></th>\n      <th></th>\n      <th></th>\n      <th></th>\n      <th></th>\n      <th></th>\n      <th></th>\n    </tr>\n  </thead>\n  <tbody>\n    <tr>\n      <th>1</th>\n      <td>1</td>\n      <td>1</td>\n      <td>2008/2009</td>\n      <td>1</td>\n      <td>2008-08-17 00:00:00</td>\n      <td>492473</td>\n      <td>9987</td>\n      <td>9993</td>\n      <td>1</td>\n      <td>1</td>\n      <td>...</td>\n      <td>4.00</td>\n      <td>1.65</td>\n      <td>3.40</td>\n      <td>4.50</td>\n      <td>1.78</td>\n      <td>3.25</td>\n      <td>4.00</td>\n      <td>1.73</td>\n      <td>3.40</td>\n      <td>4.20</td>\n    </tr>\n    <tr>\n      <th>2</th>\n      <td>1</td>\n      <td>1</td>\n      <td>2008/2009</td>\n      <td>1</td>\n      <td>2008-08-16 00:00:00</td>\n      <td>492474</td>\n      <td>10000</td>\n      <td>9994</td>\n      <td>0</td>\n      <td>0</td>\n      <td>...</td>\n      <td>3.80</td>\n      <td>2.00</td>\n      <td>3.25</td>\n      <td>3.25</td>\n      <td>1.85</td>\n      <td>3.25</td>\n      <td>3.75</td>\n      <td>1.91</td>\n      <td>3.25</td>\n      <td>3.60</td>\n    </tr>\n    <tr>\n      <th>3</th>\n      <td>1</td>\n      <td>1</td>\n      <td>2008/2009</td>\n      <td>1</td>\n      <td>2008-08-16 00:00:00</td>\n      <td>492475</td>\n      <td>9984</td>\n      <td>8635</td>\n      <td>0</td>\n      <td>3</td>\n      <td>...</td>\n      <td>2.50</td>\n      <td>2.35</td>\n      <td>3.25</td>\n      <td>2.65</td>\n      <td>2.50</td>\n      <td>3.20</td>\n      <td>2.50</td>\n      <td>2.30</td>\n      <td>3.20</td>\n      <td>2.75</td>\n    </tr>\n    <tr>\n      <th>4</th>\n      <td>1</td>\n      <td>1</td>\n      <td>2008/2009</td>\n      <td>1</td>\n      <td>2008-08-17 00:00:00</td>\n      <td>492476</td>\n      <td>9991</td>\n      <td>9998</td>\n      <td>5</td>\n      <td>0</td>\n      <td>...</td>\n      <td>7.50</td>\n      <td>1.45</td>\n      <td>3.75</td>\n      <td>6.50</td>\n      <td>1.50</td>\n      <td>3.75</td>\n      <td>5.50</td>\n      <td>1.44</td>\n      <td>3.75</td>\n      <td>6.50</td>\n    </tr>\n    <tr>\n      <th>5</th>\n      <td>1</td>\n      <td>1</td>\n      <td>2008/2009</td>\n      <td>1</td>\n      <td>2008-08-16 00:00:00</td>\n      <td>492477</td>\n      <td>7947</td>\n      <td>9985</td>\n      <td>1</td>\n      <td>3</td>\n      <td>...</td>\n      <td>1.73</td>\n      <td>4.50</td>\n      <td>3.40</td>\n      <td>1.65</td>\n      <td>4.50</td>\n      <td>3.50</td>\n      <td>1.65</td>\n      <td>4.75</td>\n      <td>3.30</td>\n      <td>1.67</td>\n    </tr>\n  </tbody>\n</table>\n<p>5 rows × 114 columns</p>\n</div>"
     },
     "metadata": {},
     "execution_count": 5
    }
   ],
   "source": [
    "# selecting first five rows from match table\n",
    "match = pd.read_sql_query(\n",
    "    '''\n",
    "        SELECT * FROM Match\n",
    "        LIMIT 5\n",
    "    ''', conn, index_col='id'\n",
    ")\n",
    "match"
   ]
  },
  {
   "cell_type": "code",
   "execution_count": 6,
   "metadata": {},
   "outputs": [
    {
     "output_type": "execute_result",
     "data": {
      "text/plain": [
       "       country_id                    name\n",
       "id                                       \n",
       "1               1  Belgium Jupiler League\n",
       "1729         1729  England Premier League\n",
       "4769         4769          France Ligue 1\n",
       "7809         7809   Germany 1. Bundesliga\n",
       "10257       10257           Italy Serie A"
      ],
      "text/html": "<div>\n<style scoped>\n    .dataframe tbody tr th:only-of-type {\n        vertical-align: middle;\n    }\n\n    .dataframe tbody tr th {\n        vertical-align: top;\n    }\n\n    .dataframe thead th {\n        text-align: right;\n    }\n</style>\n<table border=\"1\" class=\"dataframe\">\n  <thead>\n    <tr style=\"text-align: right;\">\n      <th></th>\n      <th>country_id</th>\n      <th>name</th>\n    </tr>\n    <tr>\n      <th>id</th>\n      <th></th>\n      <th></th>\n    </tr>\n  </thead>\n  <tbody>\n    <tr>\n      <th>1</th>\n      <td>1</td>\n      <td>Belgium Jupiler League</td>\n    </tr>\n    <tr>\n      <th>1729</th>\n      <td>1729</td>\n      <td>England Premier League</td>\n    </tr>\n    <tr>\n      <th>4769</th>\n      <td>4769</td>\n      <td>France Ligue 1</td>\n    </tr>\n    <tr>\n      <th>7809</th>\n      <td>7809</td>\n      <td>Germany 1. Bundesliga</td>\n    </tr>\n    <tr>\n      <th>10257</th>\n      <td>10257</td>\n      <td>Italy Serie A</td>\n    </tr>\n  </tbody>\n</table>\n</div>"
     },
     "metadata": {},
     "execution_count": 6
    }
   ],
   "source": [
    "# selecting first five rows from league table\n",
    "league = pd.read_sql_query(\n",
    "    '''\n",
    "        SELECT * FROM League\n",
    "        LIMIT 5\n",
    "    ''', conn, index_col='id'\n",
    ")\n",
    "league"
   ]
  },
  {
   "cell_type": "code",
   "execution_count": 7,
   "metadata": {},
   "outputs": [
    {
     "output_type": "execute_result",
     "data": {
      "text/plain": [
       "          name\n",
       "id            \n",
       "1      Belgium\n",
       "1729   England\n",
       "4769    France\n",
       "7809   Germany\n",
       "10257    Italy"
      ],
      "text/html": "<div>\n<style scoped>\n    .dataframe tbody tr th:only-of-type {\n        vertical-align: middle;\n    }\n\n    .dataframe tbody tr th {\n        vertical-align: top;\n    }\n\n    .dataframe thead th {\n        text-align: right;\n    }\n</style>\n<table border=\"1\" class=\"dataframe\">\n  <thead>\n    <tr style=\"text-align: right;\">\n      <th></th>\n      <th>name</th>\n    </tr>\n    <tr>\n      <th>id</th>\n      <th></th>\n    </tr>\n  </thead>\n  <tbody>\n    <tr>\n      <th>1</th>\n      <td>Belgium</td>\n    </tr>\n    <tr>\n      <th>1729</th>\n      <td>England</td>\n    </tr>\n    <tr>\n      <th>4769</th>\n      <td>France</td>\n    </tr>\n    <tr>\n      <th>7809</th>\n      <td>Germany</td>\n    </tr>\n    <tr>\n      <th>10257</th>\n      <td>Italy</td>\n    </tr>\n  </tbody>\n</table>\n</div>"
     },
     "metadata": {},
     "execution_count": 7
    }
   ],
   "source": [
    "# selecting first five rows from country table\n",
    "country = pd.read_sql_query(\n",
    "    '''\n",
    "        SELECT * FROM Country\n",
    "        LIMIT 5\n",
    "    ''', conn, index_col='id'\n",
    ")\n",
    "country"
   ]
  },
  {
   "cell_type": "code",
   "execution_count": 8,
   "metadata": {},
   "outputs": [
    {
     "output_type": "execute_result",
     "data": {
      "text/plain": [
       "    team_api_id  team_fifa_api_id     team_long_name team_short_name\n",
       "id                                                                  \n",
       "1          9987               673           KRC Genk             GEN\n",
       "2          9993               675       Beerschot AC             BAC\n",
       "3         10000             15005   SV Zulte-Waregem             ZUL\n",
       "4          9994              2007   Sporting Lokeren             LOK\n",
       "5          9984              1750  KSV Cercle Brugge             CEB"
      ],
      "text/html": "<div>\n<style scoped>\n    .dataframe tbody tr th:only-of-type {\n        vertical-align: middle;\n    }\n\n    .dataframe tbody tr th {\n        vertical-align: top;\n    }\n\n    .dataframe thead th {\n        text-align: right;\n    }\n</style>\n<table border=\"1\" class=\"dataframe\">\n  <thead>\n    <tr style=\"text-align: right;\">\n      <th></th>\n      <th>team_api_id</th>\n      <th>team_fifa_api_id</th>\n      <th>team_long_name</th>\n      <th>team_short_name</th>\n    </tr>\n    <tr>\n      <th>id</th>\n      <th></th>\n      <th></th>\n      <th></th>\n      <th></th>\n    </tr>\n  </thead>\n  <tbody>\n    <tr>\n      <th>1</th>\n      <td>9987</td>\n      <td>673</td>\n      <td>KRC Genk</td>\n      <td>GEN</td>\n    </tr>\n    <tr>\n      <th>2</th>\n      <td>9993</td>\n      <td>675</td>\n      <td>Beerschot AC</td>\n      <td>BAC</td>\n    </tr>\n    <tr>\n      <th>3</th>\n      <td>10000</td>\n      <td>15005</td>\n      <td>SV Zulte-Waregem</td>\n      <td>ZUL</td>\n    </tr>\n    <tr>\n      <th>4</th>\n      <td>9994</td>\n      <td>2007</td>\n      <td>Sporting Lokeren</td>\n      <td>LOK</td>\n    </tr>\n    <tr>\n      <th>5</th>\n      <td>9984</td>\n      <td>1750</td>\n      <td>KSV Cercle Brugge</td>\n      <td>CEB</td>\n    </tr>\n  </tbody>\n</table>\n</div>"
     },
     "metadata": {},
     "execution_count": 8
    }
   ],
   "source": [
    "# selecting first five rows from team table\n",
    "team = pd.read_sql_query(\n",
    "    '''\n",
    "        SELECT * FROM Team\n",
    "        LIMIT 5\n",
    "    ''', conn, index_col='id'\n",
    ")\n",
    "team"
   ]
  },
  {
   "cell_type": "code",
   "execution_count": 9,
   "metadata": {},
   "outputs": [
    {
     "output_type": "execute_result",
     "data": {
      "text/plain": [
       "        Country  No. of Teams\n",
       "0       Belgium            24\n",
       "1       England            34\n",
       "2        France            35\n",
       "3       Germany            30\n",
       "4         Italy            32\n",
       "5   Netherlands            25\n",
       "6        Poland            22\n",
       "7      Portugal            29\n",
       "8      Scotland            17\n",
       "9         Spain            33\n",
       "10  Switzerland            15"
      ],
      "text/html": "<div>\n<style scoped>\n    .dataframe tbody tr th:only-of-type {\n        vertical-align: middle;\n    }\n\n    .dataframe tbody tr th {\n        vertical-align: top;\n    }\n\n    .dataframe thead th {\n        text-align: right;\n    }\n</style>\n<table border=\"1\" class=\"dataframe\">\n  <thead>\n    <tr style=\"text-align: right;\">\n      <th></th>\n      <th>Country</th>\n      <th>No. of Teams</th>\n    </tr>\n  </thead>\n  <tbody>\n    <tr>\n      <th>0</th>\n      <td>Belgium</td>\n      <td>24</td>\n    </tr>\n    <tr>\n      <th>1</th>\n      <td>England</td>\n      <td>34</td>\n    </tr>\n    <tr>\n      <th>2</th>\n      <td>France</td>\n      <td>35</td>\n    </tr>\n    <tr>\n      <th>3</th>\n      <td>Germany</td>\n      <td>30</td>\n    </tr>\n    <tr>\n      <th>4</th>\n      <td>Italy</td>\n      <td>32</td>\n    </tr>\n    <tr>\n      <th>5</th>\n      <td>Netherlands</td>\n      <td>25</td>\n    </tr>\n    <tr>\n      <th>6</th>\n      <td>Poland</td>\n      <td>22</td>\n    </tr>\n    <tr>\n      <th>7</th>\n      <td>Portugal</td>\n      <td>29</td>\n    </tr>\n    <tr>\n      <th>8</th>\n      <td>Scotland</td>\n      <td>17</td>\n    </tr>\n    <tr>\n      <th>9</th>\n      <td>Spain</td>\n      <td>33</td>\n    </tr>\n    <tr>\n      <th>10</th>\n      <td>Switzerland</td>\n      <td>15</td>\n    </tr>\n  </tbody>\n</table>\n</div>"
     },
     "metadata": {},
     "execution_count": 9
    }
   ],
   "source": [
    "# Number teams each country have\n",
    "query = pd.read_sql_query(\n",
    "    '''\n",
    "        SELECT \n",
    "              c.name AS Country,\n",
    "              COUNT(DISTINCT(team_long_name)) AS 'No. of Teams'\n",
    "              FROM Match AS m\n",
    "              LEFT JOIN Country AS c\n",
    "              ON m.country_id = c.id\n",
    "              LEFT JOIN Team AS t \n",
    "              ON m.home_team_api_id = t.team_api_id\n",
    "              GROUP BY Country\n",
    "    ''', conn\n",
    ")\n",
    "query"
   ]
  },
  {
   "cell_type": "code",
   "execution_count": 10,
   "metadata": {},
   "outputs": [
    {
     "output_type": "execute_result",
     "data": {
      "text/plain": [
       "        Country     Season  Home Goal  Away Goal\n",
       "0       Belgium  2008/2009        499        356\n",
       "1       Belgium  2009/2010        308        257\n",
       "2       Belgium  2010/2011        382        253\n",
       "3       Belgium  2011/2012        421        270\n",
       "4       Belgium  2012/2013        375        328\n",
       "..          ...        ...        ...        ...\n",
       "83  Switzerland  2011/2012        235        190\n",
       "84  Switzerland  2012/2013        272        190\n",
       "85  Switzerland  2013/2014        290        230\n",
       "86  Switzerland  2014/2015        289        228\n",
       "87  Switzerland  2015/2016        321        245\n",
       "\n",
       "[88 rows x 4 columns]"
      ],
      "text/html": "<div>\n<style scoped>\n    .dataframe tbody tr th:only-of-type {\n        vertical-align: middle;\n    }\n\n    .dataframe tbody tr th {\n        vertical-align: top;\n    }\n\n    .dataframe thead th {\n        text-align: right;\n    }\n</style>\n<table border=\"1\" class=\"dataframe\">\n  <thead>\n    <tr style=\"text-align: right;\">\n      <th></th>\n      <th>Country</th>\n      <th>Season</th>\n      <th>Home Goal</th>\n      <th>Away Goal</th>\n    </tr>\n  </thead>\n  <tbody>\n    <tr>\n      <th>0</th>\n      <td>Belgium</td>\n      <td>2008/2009</td>\n      <td>499</td>\n      <td>356</td>\n    </tr>\n    <tr>\n      <th>1</th>\n      <td>Belgium</td>\n      <td>2009/2010</td>\n      <td>308</td>\n      <td>257</td>\n    </tr>\n    <tr>\n      <th>2</th>\n      <td>Belgium</td>\n      <td>2010/2011</td>\n      <td>382</td>\n      <td>253</td>\n    </tr>\n    <tr>\n      <th>3</th>\n      <td>Belgium</td>\n      <td>2011/2012</td>\n      <td>421</td>\n      <td>270</td>\n    </tr>\n    <tr>\n      <th>4</th>\n      <td>Belgium</td>\n      <td>2012/2013</td>\n      <td>375</td>\n      <td>328</td>\n    </tr>\n    <tr>\n      <th>...</th>\n      <td>...</td>\n      <td>...</td>\n      <td>...</td>\n      <td>...</td>\n    </tr>\n    <tr>\n      <th>83</th>\n      <td>Switzerland</td>\n      <td>2011/2012</td>\n      <td>235</td>\n      <td>190</td>\n    </tr>\n    <tr>\n      <th>84</th>\n      <td>Switzerland</td>\n      <td>2012/2013</td>\n      <td>272</td>\n      <td>190</td>\n    </tr>\n    <tr>\n      <th>85</th>\n      <td>Switzerland</td>\n      <td>2013/2014</td>\n      <td>290</td>\n      <td>230</td>\n    </tr>\n    <tr>\n      <th>86</th>\n      <td>Switzerland</td>\n      <td>2014/2015</td>\n      <td>289</td>\n      <td>228</td>\n    </tr>\n    <tr>\n      <th>87</th>\n      <td>Switzerland</td>\n      <td>2015/2016</td>\n      <td>321</td>\n      <td>245</td>\n    </tr>\n  </tbody>\n</table>\n<p>88 rows × 4 columns</p>\n</div>"
     },
     "metadata": {},
     "execution_count": 10
    }
   ],
   "source": [
    "# total goals scored by home team grouped by country and Season\n",
    "query1 = pd.read_sql_query(\n",
    "    '''\n",
    "        SELECT c.name AS Country,\n",
    "               m.season AS Season,\n",
    "               SUM(m.home_team_goal) AS 'Home Goal',\n",
    "               SUM(m.away_team_goal) AS 'Away Goal'\n",
    "        FROM Match as m \n",
    "        LEFT JOIN country AS c\n",
    "        ON m.country_id = c.id\n",
    "        GROUP BY Country, Season    \n",
    "        ORDER BY Country     \n",
    "    ''', conn\n",
    ")\n",
    "query1"
   ]
  },
  {
   "cell_type": "code",
   "execution_count": 11,
   "metadata": {},
   "outputs": [
    {
     "output_type": "execute_result",
     "data": {
      "text/plain": [
       "                      Team     Season  Home Goal  Away Goal\n",
       "0     1. FC Kaiserslautern  2010/2011         25         19\n",
       "1     1. FC Kaiserslautern  2011/2012         12         28\n",
       "2               1. FC Köln  2008/2009         14         25\n",
       "3               1. FC Köln  2009/2010         18         29\n",
       "4               1. FC Köln  2010/2011         30         21\n",
       "...                    ...        ...        ...        ...\n",
       "1473         Śląsk Wrocław  2011/2012         26         14\n",
       "1474         Śląsk Wrocław  2012/2013         23         15\n",
       "1475         Śląsk Wrocław  2013/2014         21         16\n",
       "1476         Śląsk Wrocław  2014/2015         21          9\n",
       "1477         Śląsk Wrocław  2015/2016         14         14\n",
       "\n",
       "[1478 rows x 4 columns]"
      ],
      "text/html": "<div>\n<style scoped>\n    .dataframe tbody tr th:only-of-type {\n        vertical-align: middle;\n    }\n\n    .dataframe tbody tr th {\n        vertical-align: top;\n    }\n\n    .dataframe thead th {\n        text-align: right;\n    }\n</style>\n<table border=\"1\" class=\"dataframe\">\n  <thead>\n    <tr style=\"text-align: right;\">\n      <th></th>\n      <th>Team</th>\n      <th>Season</th>\n      <th>Home Goal</th>\n      <th>Away Goal</th>\n    </tr>\n  </thead>\n  <tbody>\n    <tr>\n      <th>0</th>\n      <td>1. FC Kaiserslautern</td>\n      <td>2010/2011</td>\n      <td>25</td>\n      <td>19</td>\n    </tr>\n    <tr>\n      <th>1</th>\n      <td>1. FC Kaiserslautern</td>\n      <td>2011/2012</td>\n      <td>12</td>\n      <td>28</td>\n    </tr>\n    <tr>\n      <th>2</th>\n      <td>1. FC Köln</td>\n      <td>2008/2009</td>\n      <td>14</td>\n      <td>25</td>\n    </tr>\n    <tr>\n      <th>3</th>\n      <td>1. FC Köln</td>\n      <td>2009/2010</td>\n      <td>18</td>\n      <td>29</td>\n    </tr>\n    <tr>\n      <th>4</th>\n      <td>1. FC Köln</td>\n      <td>2010/2011</td>\n      <td>30</td>\n      <td>21</td>\n    </tr>\n    <tr>\n      <th>...</th>\n      <td>...</td>\n      <td>...</td>\n      <td>...</td>\n      <td>...</td>\n    </tr>\n    <tr>\n      <th>1473</th>\n      <td>Śląsk Wrocław</td>\n      <td>2011/2012</td>\n      <td>26</td>\n      <td>14</td>\n    </tr>\n    <tr>\n      <th>1474</th>\n      <td>Śląsk Wrocław</td>\n      <td>2012/2013</td>\n      <td>23</td>\n      <td>15</td>\n    </tr>\n    <tr>\n      <th>1475</th>\n      <td>Śląsk Wrocław</td>\n      <td>2013/2014</td>\n      <td>21</td>\n      <td>16</td>\n    </tr>\n    <tr>\n      <th>1476</th>\n      <td>Śląsk Wrocław</td>\n      <td>2014/2015</td>\n      <td>21</td>\n      <td>9</td>\n    </tr>\n    <tr>\n      <th>1477</th>\n      <td>Śląsk Wrocław</td>\n      <td>2015/2016</td>\n      <td>14</td>\n      <td>14</td>\n    </tr>\n  </tbody>\n</table>\n<p>1478 rows × 4 columns</p>\n</div>"
     },
     "metadata": {},
     "execution_count": 11
    }
   ],
   "source": [
    "# goals scored by each team grouped by season\n",
    "query2 = pd.read_sql_query(\n",
    "    '''\n",
    "        SELECT t.team_long_name AS Team, \n",
    "               m.season as Season,\n",
    "               SUM(m.home_team_goal) AS 'Home Goal',\n",
    "               SUM(m.away_team_goal) AS 'Away Goal'\n",
    "        FROM Match AS m\n",
    "        LEFT JOIN Team AS t\n",
    "        ON m.home_team_api_id = t.team_api_id \n",
    "        GROUP BY Team, Season\n",
    "        ORDER BY Team\n",
    "    ''', conn\n",
    ")\n",
    "query2"
   ]
  },
  {
   "cell_type": "code",
   "execution_count": 12,
   "metadata": {},
   "outputs": [
    {
     "output_type": "execute_result",
     "data": {
      "text/plain": [
       "          Country             Team     Season  Home Goal  Away Goal\n",
       "0         Belgium     Beerschot AC  2008/2009         32         19\n",
       "1         Belgium     Beerschot AC  2009/2010         20         22\n",
       "2         Belgium     Beerschot AC  2010/2011         14         10\n",
       "3         Belgium     Beerschot AC  2011/2012         26         13\n",
       "4         Belgium     Beerschot AC  2012/2013         20         34\n",
       "...           ...              ...        ...        ...        ...\n",
       "1473  Switzerland  Neuchâtel Xamax  2009/2010         35         27\n",
       "1474  Switzerland  Neuchâtel Xamax  2010/2011         23         35\n",
       "1475  Switzerland  Neuchâtel Xamax  2011/2012         12         10\n",
       "1476  Switzerland      Servette FC  2011/2012         23         27\n",
       "1477  Switzerland      Servette FC  2012/2013         18         22\n",
       "\n",
       "[1478 rows x 5 columns]"
      ],
      "text/html": "<div>\n<style scoped>\n    .dataframe tbody tr th:only-of-type {\n        vertical-align: middle;\n    }\n\n    .dataframe tbody tr th {\n        vertical-align: top;\n    }\n\n    .dataframe thead th {\n        text-align: right;\n    }\n</style>\n<table border=\"1\" class=\"dataframe\">\n  <thead>\n    <tr style=\"text-align: right;\">\n      <th></th>\n      <th>Country</th>\n      <th>Team</th>\n      <th>Season</th>\n      <th>Home Goal</th>\n      <th>Away Goal</th>\n    </tr>\n  </thead>\n  <tbody>\n    <tr>\n      <th>0</th>\n      <td>Belgium</td>\n      <td>Beerschot AC</td>\n      <td>2008/2009</td>\n      <td>32</td>\n      <td>19</td>\n    </tr>\n    <tr>\n      <th>1</th>\n      <td>Belgium</td>\n      <td>Beerschot AC</td>\n      <td>2009/2010</td>\n      <td>20</td>\n      <td>22</td>\n    </tr>\n    <tr>\n      <th>2</th>\n      <td>Belgium</td>\n      <td>Beerschot AC</td>\n      <td>2010/2011</td>\n      <td>14</td>\n      <td>10</td>\n    </tr>\n    <tr>\n      <th>3</th>\n      <td>Belgium</td>\n      <td>Beerschot AC</td>\n      <td>2011/2012</td>\n      <td>26</td>\n      <td>13</td>\n    </tr>\n    <tr>\n      <th>4</th>\n      <td>Belgium</td>\n      <td>Beerschot AC</td>\n      <td>2012/2013</td>\n      <td>20</td>\n      <td>34</td>\n    </tr>\n    <tr>\n      <th>...</th>\n      <td>...</td>\n      <td>...</td>\n      <td>...</td>\n      <td>...</td>\n      <td>...</td>\n    </tr>\n    <tr>\n      <th>1473</th>\n      <td>Switzerland</td>\n      <td>Neuchâtel Xamax</td>\n      <td>2009/2010</td>\n      <td>35</td>\n      <td>27</td>\n    </tr>\n    <tr>\n      <th>1474</th>\n      <td>Switzerland</td>\n      <td>Neuchâtel Xamax</td>\n      <td>2010/2011</td>\n      <td>23</td>\n      <td>35</td>\n    </tr>\n    <tr>\n      <th>1475</th>\n      <td>Switzerland</td>\n      <td>Neuchâtel Xamax</td>\n      <td>2011/2012</td>\n      <td>12</td>\n      <td>10</td>\n    </tr>\n    <tr>\n      <th>1476</th>\n      <td>Switzerland</td>\n      <td>Servette FC</td>\n      <td>2011/2012</td>\n      <td>23</td>\n      <td>27</td>\n    </tr>\n    <tr>\n      <th>1477</th>\n      <td>Switzerland</td>\n      <td>Servette FC</td>\n      <td>2012/2013</td>\n      <td>18</td>\n      <td>22</td>\n    </tr>\n  </tbody>\n</table>\n<p>1478 rows × 5 columns</p>\n</div>"
     },
     "metadata": {},
     "execution_count": 12
    }
   ],
   "source": [
    "query3 = pd.read_sql_query(\n",
    "    '''\n",
    "        SELECT c.name AS Country,\n",
    "               t.team_long_name AS Team,\n",
    "               m.season AS Season,\n",
    "               SUM(m.home_team_goal) AS 'Home Goal',\n",
    "               SUM(m.away_team_goal) AS 'Away Goal'\n",
    "        FROM Match as m\n",
    "        LEFT JOIN Country AS c\n",
    "        ON m.country_id = c.id\n",
    "        LEFT JOIN Team AS t\n",
    "        ON m.home_team_api_id = t.team_api_id\n",
    "        GROUP BY Country, Team, Season\n",
    "        ORDER BY Country\n",
    "    ''', conn\n",
    ")\n",
    "query3"
   ]
  },
  {
   "cell_type": "code",
   "execution_count": 13,
   "metadata": {},
   "outputs": [
    {
     "output_type": "execute_result",
     "data": {
      "text/plain": [
       "             Country                   Team  Won  Lost  Tie\n",
       "Row Number                                                 \n",
       "1              Spain           FC Barcelona  131     9   12\n",
       "2              Spain         Real Madrid CF  129    12   11\n",
       "3           Scotland                 Celtic  120     9   23\n",
       "4            England      Manchester United  116    20   16\n",
       "5            England        Manchester City  113    21   18\n",
       "...              ...                    ...  ...   ...  ...\n",
       "292          Germany  DSC Arminia Bielefeld    2     7    8\n",
       "293          Germany        SV Darmstadt 98    2     9    6\n",
       "294         Scotland   Dunfermline Athletic    1    11    7\n",
       "295            Spain             Córdoba CF    1    12    6\n",
       "296          Germany   SpVgg Greuther Fürth    0    13    4\n",
       "\n",
       "[296 rows x 5 columns]"
      ],
      "text/html": "<div>\n<style scoped>\n    .dataframe tbody tr th:only-of-type {\n        vertical-align: middle;\n    }\n\n    .dataframe tbody tr th {\n        vertical-align: top;\n    }\n\n    .dataframe thead th {\n        text-align: right;\n    }\n</style>\n<table border=\"1\" class=\"dataframe\">\n  <thead>\n    <tr style=\"text-align: right;\">\n      <th></th>\n      <th>Country</th>\n      <th>Team</th>\n      <th>Won</th>\n      <th>Lost</th>\n      <th>Tie</th>\n    </tr>\n    <tr>\n      <th>Row Number</th>\n      <th></th>\n      <th></th>\n      <th></th>\n      <th></th>\n      <th></th>\n    </tr>\n  </thead>\n  <tbody>\n    <tr>\n      <th>1</th>\n      <td>Spain</td>\n      <td>FC Barcelona</td>\n      <td>131</td>\n      <td>9</td>\n      <td>12</td>\n    </tr>\n    <tr>\n      <th>2</th>\n      <td>Spain</td>\n      <td>Real Madrid CF</td>\n      <td>129</td>\n      <td>12</td>\n      <td>11</td>\n    </tr>\n    <tr>\n      <th>3</th>\n      <td>Scotland</td>\n      <td>Celtic</td>\n      <td>120</td>\n      <td>9</td>\n      <td>23</td>\n    </tr>\n    <tr>\n      <th>4</th>\n      <td>England</td>\n      <td>Manchester United</td>\n      <td>116</td>\n      <td>20</td>\n      <td>16</td>\n    </tr>\n    <tr>\n      <th>5</th>\n      <td>England</td>\n      <td>Manchester City</td>\n      <td>113</td>\n      <td>21</td>\n      <td>18</td>\n    </tr>\n    <tr>\n      <th>...</th>\n      <td>...</td>\n      <td>...</td>\n      <td>...</td>\n      <td>...</td>\n      <td>...</td>\n    </tr>\n    <tr>\n      <th>292</th>\n      <td>Germany</td>\n      <td>DSC Arminia Bielefeld</td>\n      <td>2</td>\n      <td>7</td>\n      <td>8</td>\n    </tr>\n    <tr>\n      <th>293</th>\n      <td>Germany</td>\n      <td>SV Darmstadt 98</td>\n      <td>2</td>\n      <td>9</td>\n      <td>6</td>\n    </tr>\n    <tr>\n      <th>294</th>\n      <td>Scotland</td>\n      <td>Dunfermline Athletic</td>\n      <td>1</td>\n      <td>11</td>\n      <td>7</td>\n    </tr>\n    <tr>\n      <th>295</th>\n      <td>Spain</td>\n      <td>Córdoba CF</td>\n      <td>1</td>\n      <td>12</td>\n      <td>6</td>\n    </tr>\n    <tr>\n      <th>296</th>\n      <td>Germany</td>\n      <td>SpVgg Greuther Fürth</td>\n      <td>0</td>\n      <td>13</td>\n      <td>4</td>\n    </tr>\n  </tbody>\n</table>\n<p>296 rows × 5 columns</p>\n</div>"
     },
     "metadata": {},
     "execution_count": 13
    }
   ],
   "source": [
    "# count of matches won, lost and tie\n",
    "query4 = pd.read_sql_query(\n",
    "    '''\n",
    "    WITH sub_q AS (\n",
    "        SELECT     \n",
    "                   c.name AS Country,\n",
    "                   t.team_long_name AS Team,\n",
    "                   COUNT(CASE WHEN m.home_team_goal > away_team_goal THEN 'Win' END) AS Won,\n",
    "                   COUNT(CASE WHEN m.home_team_goal < away_team_goal THEN 'Lost' END) AS Lost,\n",
    "                   COUNT(CASE WHEN m.home_team_goal = away_team_goal THEN 'Tie' END) AS Tie\n",
    "         FROM Match AS m\n",
    "         LEFT JOIN Country AS c\n",
    "         ON m.country_id = c.id\n",
    "         LEFT JOIN Team as t\n",
    "         ON m.home_team_api_id = t.team_api_id\n",
    "         GROUP BY Country, Team\n",
    "         ORDER BY Country\n",
    "         )\n",
    "         SELECT ROW_NUMBER() OVER(ORDER BY Won DESC) AS 'Row Number',\n",
    "                Country, \n",
    "                Team, \n",
    "                Won, \n",
    "                Lost,\n",
    "                Tie\n",
    "        FROM sub_q\n",
    "    ''', conn, index_col='Row Number'\n",
    "    )\n",
    "query4"
   ]
  },
  {
   "cell_type": "code",
   "execution_count": 14,
   "metadata": {},
   "outputs": [
    {
     "output_type": "execute_result",
     "data": {
      "text/plain": [
       "            Name                  Team  Goal\n",
       "0          Spain        Real Madrid CF   505\n",
       "1          Spain          FC Barcelona   495\n",
       "2       Scotland                Celtic   389\n",
       "3        Germany      FC Bayern Munich   382\n",
       "4    Netherlands                   PSV   370\n",
       "..           ...                   ...   ...\n",
       "291       France      AC Arles-Avignon    14\n",
       "292     Portugal              Trofense    14\n",
       "293     Portugal              Feirense    13\n",
       "294        Spain            Córdoba CF    12\n",
       "295      Germany  SpVgg Greuther Fürth    10\n",
       "\n",
       "[296 rows x 3 columns]"
      ],
      "text/html": "<div>\n<style scoped>\n    .dataframe tbody tr th:only-of-type {\n        vertical-align: middle;\n    }\n\n    .dataframe tbody tr th {\n        vertical-align: top;\n    }\n\n    .dataframe thead th {\n        text-align: right;\n    }\n</style>\n<table border=\"1\" class=\"dataframe\">\n  <thead>\n    <tr style=\"text-align: right;\">\n      <th></th>\n      <th>Name</th>\n      <th>Team</th>\n      <th>Goal</th>\n    </tr>\n  </thead>\n  <tbody>\n    <tr>\n      <th>0</th>\n      <td>Spain</td>\n      <td>Real Madrid CF</td>\n      <td>505</td>\n    </tr>\n    <tr>\n      <th>1</th>\n      <td>Spain</td>\n      <td>FC Barcelona</td>\n      <td>495</td>\n    </tr>\n    <tr>\n      <th>2</th>\n      <td>Scotland</td>\n      <td>Celtic</td>\n      <td>389</td>\n    </tr>\n    <tr>\n      <th>3</th>\n      <td>Germany</td>\n      <td>FC Bayern Munich</td>\n      <td>382</td>\n    </tr>\n    <tr>\n      <th>4</th>\n      <td>Netherlands</td>\n      <td>PSV</td>\n      <td>370</td>\n    </tr>\n    <tr>\n      <th>...</th>\n      <td>...</td>\n      <td>...</td>\n      <td>...</td>\n    </tr>\n    <tr>\n      <th>291</th>\n      <td>France</td>\n      <td>AC Arles-Avignon</td>\n      <td>14</td>\n    </tr>\n    <tr>\n      <th>292</th>\n      <td>Portugal</td>\n      <td>Trofense</td>\n      <td>14</td>\n    </tr>\n    <tr>\n      <th>293</th>\n      <td>Portugal</td>\n      <td>Feirense</td>\n      <td>13</td>\n    </tr>\n    <tr>\n      <th>294</th>\n      <td>Spain</td>\n      <td>Córdoba CF</td>\n      <td>12</td>\n    </tr>\n    <tr>\n      <th>295</th>\n      <td>Germany</td>\n      <td>SpVgg Greuther Fürth</td>\n      <td>10</td>\n    </tr>\n  </tbody>\n</table>\n<p>296 rows × 3 columns</p>\n</div>"
     },
     "metadata": {},
     "execution_count": 14
    }
   ],
   "source": [
    "# total home goals scored grouped by country and team\n",
    "query5 = pd.read_sql_query(\n",
    "    '''\n",
    "        SELECT name AS Name,\n",
    "            team_long_name AS Team,\n",
    "            --STRFTIME('%Y', date) AS Year, \n",
    "            SUM(home_team_goal) AS Goal\n",
    "        FROM Match AS m\n",
    "        LEFT JOIN Country as c\n",
    "        ON m.country_id = c.id\n",
    "        LEFT JOIN Team AS t\n",
    "        ON m.home_team_api_id = t.team_api_id  \n",
    "        GROUP BY Name, Team\n",
    "        ORDER BY Goal DESC\n",
    "        \n",
    "    ''', conn\n",
    ")\n",
    "query5"
   ]
  },
  {
   "cell_type": "code",
   "execution_count": 15,
   "metadata": {},
   "outputs": [
    {
     "output_type": "execute_result",
     "data": {
      "text/plain": [
       "           Name  Year  Goals\n",
       "0       Belgium  2008    262\n",
       "1       Belgium  2009    452\n",
       "2       Belgium  2010    371\n",
       "3       Belgium  2011    362\n",
       "4       Belgium  2012    454\n",
       "..          ...   ...    ...\n",
       "94  Switzerland  2012    222\n",
       "95  Switzerland  2013    286\n",
       "96  Switzerland  2014    289\n",
       "97  Switzerland  2015    313\n",
       "98  Switzerland  2016    162\n",
       "\n",
       "[99 rows x 3 columns]"
      ],
      "text/html": "<div>\n<style scoped>\n    .dataframe tbody tr th:only-of-type {\n        vertical-align: middle;\n    }\n\n    .dataframe tbody tr th {\n        vertical-align: top;\n    }\n\n    .dataframe thead th {\n        text-align: right;\n    }\n</style>\n<table border=\"1\" class=\"dataframe\">\n  <thead>\n    <tr style=\"text-align: right;\">\n      <th></th>\n      <th>Name</th>\n      <th>Year</th>\n      <th>Goals</th>\n    </tr>\n  </thead>\n  <tbody>\n    <tr>\n      <th>0</th>\n      <td>Belgium</td>\n      <td>2008</td>\n      <td>262</td>\n    </tr>\n    <tr>\n      <th>1</th>\n      <td>Belgium</td>\n      <td>2009</td>\n      <td>452</td>\n    </tr>\n    <tr>\n      <th>2</th>\n      <td>Belgium</td>\n      <td>2010</td>\n      <td>371</td>\n    </tr>\n    <tr>\n      <th>3</th>\n      <td>Belgium</td>\n      <td>2011</td>\n      <td>362</td>\n    </tr>\n    <tr>\n      <th>4</th>\n      <td>Belgium</td>\n      <td>2012</td>\n      <td>454</td>\n    </tr>\n    <tr>\n      <th>...</th>\n      <td>...</td>\n      <td>...</td>\n      <td>...</td>\n    </tr>\n    <tr>\n      <th>94</th>\n      <td>Switzerland</td>\n      <td>2012</td>\n      <td>222</td>\n    </tr>\n    <tr>\n      <th>95</th>\n      <td>Switzerland</td>\n      <td>2013</td>\n      <td>286</td>\n    </tr>\n    <tr>\n      <th>96</th>\n      <td>Switzerland</td>\n      <td>2014</td>\n      <td>289</td>\n    </tr>\n    <tr>\n      <th>97</th>\n      <td>Switzerland</td>\n      <td>2015</td>\n      <td>313</td>\n    </tr>\n    <tr>\n      <th>98</th>\n      <td>Switzerland</td>\n      <td>2016</td>\n      <td>162</td>\n    </tr>\n  </tbody>\n</table>\n<p>99 rows × 3 columns</p>\n</div>"
     },
     "metadata": {},
     "execution_count": 15
    }
   ],
   "source": [
    "# total goals scored grouped by country and year\n",
    "query6 = pd.read_sql_query(\n",
    "    '''\n",
    "        WITH year_wise AS (\n",
    "            SELECT country_id, STRFTIME('%Y', date) AS Year, home_team_goal AS Goal\n",
    "            FROM Match\n",
    "        )\n",
    "        SELECT name AS Name, Year , SUM(Goal) AS Goals\n",
    "        FROM year_wise as y\n",
    "        LEFT JOIN Country as c\n",
    "        ON y.country_id = c.id\n",
    "        GROUP BY Name, Year\n",
    "        \n",
    "    ''', conn\n",
    ")\n",
    "query6"
   ]
  },
  {
   "cell_type": "code",
   "execution_count": 16,
   "metadata": {},
   "outputs": [
    {
     "output_type": "execute_result",
     "data": {
      "text/plain": [
       "                      Date  Year Month Week Day\n",
       "0      2008-08-17 00:00:00  2008    08    0  17\n",
       "1      2008-08-16 00:00:00  2008    08    6  16\n",
       "2      2008-08-16 00:00:00  2008    08    6  16\n",
       "3      2008-08-17 00:00:00  2008    08    0  17\n",
       "4      2008-08-16 00:00:00  2008    08    6  16\n",
       "...                    ...   ...   ...  ...  ..\n",
       "25974  2015-09-22 00:00:00  2015    09    2  22\n",
       "25975  2015-09-23 00:00:00  2015    09    3  23\n",
       "25976  2015-09-23 00:00:00  2015    09    3  23\n",
       "25977  2015-09-22 00:00:00  2015    09    2  22\n",
       "25978  2015-09-23 00:00:00  2015    09    3  23\n",
       "\n",
       "[25979 rows x 5 columns]"
      ],
      "text/html": "<div>\n<style scoped>\n    .dataframe tbody tr th:only-of-type {\n        vertical-align: middle;\n    }\n\n    .dataframe tbody tr th {\n        vertical-align: top;\n    }\n\n    .dataframe thead th {\n        text-align: right;\n    }\n</style>\n<table border=\"1\" class=\"dataframe\">\n  <thead>\n    <tr style=\"text-align: right;\">\n      <th></th>\n      <th>Date</th>\n      <th>Year</th>\n      <th>Month</th>\n      <th>Week</th>\n      <th>Day</th>\n    </tr>\n  </thead>\n  <tbody>\n    <tr>\n      <th>0</th>\n      <td>2008-08-17 00:00:00</td>\n      <td>2008</td>\n      <td>08</td>\n      <td>0</td>\n      <td>17</td>\n    </tr>\n    <tr>\n      <th>1</th>\n      <td>2008-08-16 00:00:00</td>\n      <td>2008</td>\n      <td>08</td>\n      <td>6</td>\n      <td>16</td>\n    </tr>\n    <tr>\n      <th>2</th>\n      <td>2008-08-16 00:00:00</td>\n      <td>2008</td>\n      <td>08</td>\n      <td>6</td>\n      <td>16</td>\n    </tr>\n    <tr>\n      <th>3</th>\n      <td>2008-08-17 00:00:00</td>\n      <td>2008</td>\n      <td>08</td>\n      <td>0</td>\n      <td>17</td>\n    </tr>\n    <tr>\n      <th>4</th>\n      <td>2008-08-16 00:00:00</td>\n      <td>2008</td>\n      <td>08</td>\n      <td>6</td>\n      <td>16</td>\n    </tr>\n    <tr>\n      <th>...</th>\n      <td>...</td>\n      <td>...</td>\n      <td>...</td>\n      <td>...</td>\n      <td>...</td>\n    </tr>\n    <tr>\n      <th>25974</th>\n      <td>2015-09-22 00:00:00</td>\n      <td>2015</td>\n      <td>09</td>\n      <td>2</td>\n      <td>22</td>\n    </tr>\n    <tr>\n      <th>25975</th>\n      <td>2015-09-23 00:00:00</td>\n      <td>2015</td>\n      <td>09</td>\n      <td>3</td>\n      <td>23</td>\n    </tr>\n    <tr>\n      <th>25976</th>\n      <td>2015-09-23 00:00:00</td>\n      <td>2015</td>\n      <td>09</td>\n      <td>3</td>\n      <td>23</td>\n    </tr>\n    <tr>\n      <th>25977</th>\n      <td>2015-09-22 00:00:00</td>\n      <td>2015</td>\n      <td>09</td>\n      <td>2</td>\n      <td>22</td>\n    </tr>\n    <tr>\n      <th>25978</th>\n      <td>2015-09-23 00:00:00</td>\n      <td>2015</td>\n      <td>09</td>\n      <td>3</td>\n      <td>23</td>\n    </tr>\n  </tbody>\n</table>\n<p>25979 rows × 5 columns</p>\n</div>"
     },
     "metadata": {},
     "execution_count": 16
    }
   ],
   "source": [
    "# extracting Year, Month, Week and day from date\n",
    "query7 = pd.read_sql_query(\n",
    "    '''\n",
    "        SELECT date AS Date,\n",
    "               STRFTIME('%Y', date) AS Year,\n",
    "               STRFTIME('%m', date) AS Month,\n",
    "               STRFTIME('%w', date) AS Week,\n",
    "               STRFTIME('%d', date) AS Day\n",
    "        FROM Match\n",
    "    ''', conn\n",
    ")\n",
    "query7"
   ]
  },
  {
   "cell_type": "code",
   "execution_count": 17,
   "metadata": {},
   "outputs": [
    {
     "output_type": "execute_result",
     "data": {
      "text/plain": [
       "                Country     Season  Won  Lost  Tie\n",
       "Row Number                                        \n",
       "1                 Spain  2010/2011  197   104   79\n",
       "2                 Spain  2009/2010  194    91   95\n",
       "3               England  2009/2010  193    91   96\n",
       "4                 Italy  2008/2009  192    93   95\n",
       "5                 Spain  2012/2013  189   107   84\n",
       "...                 ...        ...  ...   ...  ...\n",
       "84          Switzerland  2015/2016   80    53   47\n",
       "85          Switzerland  2014/2015   76    56   48\n",
       "86          Switzerland  2010/2011   72    57   51\n",
       "87          Switzerland  2011/2012   70    52   40\n",
       "88              Belgium  2013/2014    6     4    2\n",
       "\n",
       "[88 rows x 5 columns]"
      ],
      "text/html": "<div>\n<style scoped>\n    .dataframe tbody tr th:only-of-type {\n        vertical-align: middle;\n    }\n\n    .dataframe tbody tr th {\n        vertical-align: top;\n    }\n\n    .dataframe thead th {\n        text-align: right;\n    }\n</style>\n<table border=\"1\" class=\"dataframe\">\n  <thead>\n    <tr style=\"text-align: right;\">\n      <th></th>\n      <th>Country</th>\n      <th>Season</th>\n      <th>Won</th>\n      <th>Lost</th>\n      <th>Tie</th>\n    </tr>\n    <tr>\n      <th>Row Number</th>\n      <th></th>\n      <th></th>\n      <th></th>\n      <th></th>\n      <th></th>\n    </tr>\n  </thead>\n  <tbody>\n    <tr>\n      <th>1</th>\n      <td>Spain</td>\n      <td>2010/2011</td>\n      <td>197</td>\n      <td>104</td>\n      <td>79</td>\n    </tr>\n    <tr>\n      <th>2</th>\n      <td>Spain</td>\n      <td>2009/2010</td>\n      <td>194</td>\n      <td>91</td>\n      <td>95</td>\n    </tr>\n    <tr>\n      <th>3</th>\n      <td>England</td>\n      <td>2009/2010</td>\n      <td>193</td>\n      <td>91</td>\n      <td>96</td>\n    </tr>\n    <tr>\n      <th>4</th>\n      <td>Italy</td>\n      <td>2008/2009</td>\n      <td>192</td>\n      <td>93</td>\n      <td>95</td>\n    </tr>\n    <tr>\n      <th>5</th>\n      <td>Spain</td>\n      <td>2012/2013</td>\n      <td>189</td>\n      <td>107</td>\n      <td>84</td>\n    </tr>\n    <tr>\n      <th>...</th>\n      <td>...</td>\n      <td>...</td>\n      <td>...</td>\n      <td>...</td>\n      <td>...</td>\n    </tr>\n    <tr>\n      <th>84</th>\n      <td>Switzerland</td>\n      <td>2015/2016</td>\n      <td>80</td>\n      <td>53</td>\n      <td>47</td>\n    </tr>\n    <tr>\n      <th>85</th>\n      <td>Switzerland</td>\n      <td>2014/2015</td>\n      <td>76</td>\n      <td>56</td>\n      <td>48</td>\n    </tr>\n    <tr>\n      <th>86</th>\n      <td>Switzerland</td>\n      <td>2010/2011</td>\n      <td>72</td>\n      <td>57</td>\n      <td>51</td>\n    </tr>\n    <tr>\n      <th>87</th>\n      <td>Switzerland</td>\n      <td>2011/2012</td>\n      <td>70</td>\n      <td>52</td>\n      <td>40</td>\n    </tr>\n    <tr>\n      <th>88</th>\n      <td>Belgium</td>\n      <td>2013/2014</td>\n      <td>6</td>\n      <td>4</td>\n      <td>2</td>\n    </tr>\n  </tbody>\n</table>\n<p>88 rows × 5 columns</p>\n</div>"
     },
     "metadata": {},
     "execution_count": 17
    }
   ],
   "source": [
    "# count of matches won, lost and tie\n",
    "query8 = pd.read_sql_query(\n",
    "    '''\n",
    "    WITH sub_q AS (\n",
    "        SELECT     \n",
    "                   c.name AS Country,\n",
    "                   season AS Season,\n",
    "                   t.team_long_name AS Team,\n",
    "                   --m.home_team_goal AS home_goal,\n",
    "                   --m.away_team_goal AS away_goal,\n",
    "                   COUNT(CASE WHEN m.home_team_goal > away_team_goal THEN 'Win' END) AS Won,\n",
    "                   COUNT(CASE WHEN m.home_team_goal < away_team_goal THEN 'Lost' END) AS Lost,\n",
    "                   COUNT(CASE WHEN m.home_team_goal = away_team_goal THEN 'Tie' END) AS Tie\n",
    "         FROM Match AS m\n",
    "         LEFT JOIN Country AS c\n",
    "         ON m.country_id = c.id\n",
    "         LEFT JOIN Team as t\n",
    "         ON m.home_team_api_id = t.team_api_id\n",
    "         GROUP BY Country, Season\n",
    "         ORDER BY Country\n",
    "         )\n",
    "         SELECT ROW_NUMBER() OVER(ORDER BY Won DESC) AS 'Row Number',\n",
    "                Country, \n",
    "                Season,\n",
    "                Won, \n",
    "                Lost,\n",
    "                Tie\n",
    "        FROM sub_q\n",
    "    ''', conn, index_col='Row Number'\n",
    "    )\n",
    "query8"
   ]
  },
  {
   "cell_type": "code",
   "execution_count": 18,
   "metadata": {},
   "outputs": [
    {
     "output_type": "execute_result",
     "data": {
      "text/plain": [
       "            Season      Country               Team  Goal\n",
       "Row No.                                                 \n",
       "1        2008/2009      Belgium     RSC Anderlecht    48\n",
       "2        2008/2009      Belgium  Standard de Liège    42\n",
       "3        2008/2009      Belgium     Club Brugge KV    37\n",
       "4        2008/2009      Belgium       Beerschot AC    32\n",
       "5        2008/2009      Belgium           KAA Gent    31\n",
       "...            ...          ...                ...   ...\n",
       "6        2015/2016  Switzerland          FC Zürich    29\n",
       "7        2015/2016  Switzerland            FC Thun    26\n",
       "8        2015/2016  Switzerland      FC St. Gallen    25\n",
       "9        2015/2016  Switzerland             Lugano    25\n",
       "10       2015/2016  Switzerland           FC Vaduz    20\n",
       "\n",
       "[1478 rows x 4 columns]"
      ],
      "text/html": "<div>\n<style scoped>\n    .dataframe tbody tr th:only-of-type {\n        vertical-align: middle;\n    }\n\n    .dataframe tbody tr th {\n        vertical-align: top;\n    }\n\n    .dataframe thead th {\n        text-align: right;\n    }\n</style>\n<table border=\"1\" class=\"dataframe\">\n  <thead>\n    <tr style=\"text-align: right;\">\n      <th></th>\n      <th>Season</th>\n      <th>Country</th>\n      <th>Team</th>\n      <th>Goal</th>\n    </tr>\n    <tr>\n      <th>Row No.</th>\n      <th></th>\n      <th></th>\n      <th></th>\n      <th></th>\n    </tr>\n  </thead>\n  <tbody>\n    <tr>\n      <th>1</th>\n      <td>2008/2009</td>\n      <td>Belgium</td>\n      <td>RSC Anderlecht</td>\n      <td>48</td>\n    </tr>\n    <tr>\n      <th>2</th>\n      <td>2008/2009</td>\n      <td>Belgium</td>\n      <td>Standard de Liège</td>\n      <td>42</td>\n    </tr>\n    <tr>\n      <th>3</th>\n      <td>2008/2009</td>\n      <td>Belgium</td>\n      <td>Club Brugge KV</td>\n      <td>37</td>\n    </tr>\n    <tr>\n      <th>4</th>\n      <td>2008/2009</td>\n      <td>Belgium</td>\n      <td>Beerschot AC</td>\n      <td>32</td>\n    </tr>\n    <tr>\n      <th>5</th>\n      <td>2008/2009</td>\n      <td>Belgium</td>\n      <td>KAA Gent</td>\n      <td>31</td>\n    </tr>\n    <tr>\n      <th>...</th>\n      <td>...</td>\n      <td>...</td>\n      <td>...</td>\n      <td>...</td>\n    </tr>\n    <tr>\n      <th>6</th>\n      <td>2015/2016</td>\n      <td>Switzerland</td>\n      <td>FC Zürich</td>\n      <td>29</td>\n    </tr>\n    <tr>\n      <th>7</th>\n      <td>2015/2016</td>\n      <td>Switzerland</td>\n      <td>FC Thun</td>\n      <td>26</td>\n    </tr>\n    <tr>\n      <th>8</th>\n      <td>2015/2016</td>\n      <td>Switzerland</td>\n      <td>FC St. Gallen</td>\n      <td>25</td>\n    </tr>\n    <tr>\n      <th>9</th>\n      <td>2015/2016</td>\n      <td>Switzerland</td>\n      <td>Lugano</td>\n      <td>25</td>\n    </tr>\n    <tr>\n      <th>10</th>\n      <td>2015/2016</td>\n      <td>Switzerland</td>\n      <td>FC Vaduz</td>\n      <td>20</td>\n    </tr>\n  </tbody>\n</table>\n<p>1478 rows × 4 columns</p>\n</div>"
     },
     "metadata": {},
     "execution_count": 18
    }
   ],
   "source": [
    "# partitioning by Season and Country\n",
    "query9 = pd.read_sql_query(\n",
    "    '''\n",
    "    WITH sub_q AS (\n",
    "        SELECT \n",
    "              season AS Season,\n",
    "              name AS Country,\n",
    "              team_long_name AS Team,\n",
    "              SUM(home_team_goal) AS Goal\n",
    "        FROM Match AS m\n",
    "        LEFT JOIN Country as c\n",
    "        ON m.country_id = c.id\n",
    "        LEFT JOIN Team AS t\n",
    "        ON m.home_team_api_id = t.team_api_id  \n",
    "        GROUP BY Season, Name, Team\n",
    "        ORDER BY Goal DESC\n",
    "        )\n",
    "        SELECT \n",
    "              ROW_NUMBER() OVER(PARTITION BY Season, Country) AS 'Row No.',\n",
    "              Season,\n",
    "              Country,\n",
    "              Team, \n",
    "              Goal\n",
    "        FROM sub_q\n",
    "        \n",
    "    ''', conn, index_col='Row No.'\n",
    ")\n",
    "query9"
   ]
  },
  {
   "cell_type": "code",
   "execution_count": 19,
   "metadata": {},
   "outputs": [
    {
     "output_type": "execute_result",
     "data": {
      "text/plain": [
       "                            Team  Goal\n",
       "0           FC Barcelona (Spain)    73\n",
       "1         Real Madrid CF (Spain)    70\n",
       "2         Real Madrid CF (Spain)    70\n",
       "3              Chelsea (England)    68\n",
       "4         Real Madrid CF (Spain)    67\n",
       "...                          ...   ...\n",
       "1473      Lechia Gdańsk (Poland)     9\n",
       "1474          KAA Gent (Belgium)     6\n",
       "1475         Lierse SK (Belgium)     5\n",
       "1476  Waasland-Beveren (Belgium)     4\n",
       "1477       KV Oostende (Belgium)     3\n",
       "\n",
       "[1478 rows x 2 columns]"
      ],
      "text/html": "<div>\n<style scoped>\n    .dataframe tbody tr th:only-of-type {\n        vertical-align: middle;\n    }\n\n    .dataframe tbody tr th {\n        vertical-align: top;\n    }\n\n    .dataframe thead th {\n        text-align: right;\n    }\n</style>\n<table border=\"1\" class=\"dataframe\">\n  <thead>\n    <tr style=\"text-align: right;\">\n      <th></th>\n      <th>Team</th>\n      <th>Goal</th>\n    </tr>\n  </thead>\n  <tbody>\n    <tr>\n      <th>0</th>\n      <td>FC Barcelona (Spain)</td>\n      <td>73</td>\n    </tr>\n    <tr>\n      <th>1</th>\n      <td>Real Madrid CF (Spain)</td>\n      <td>70</td>\n    </tr>\n    <tr>\n      <th>2</th>\n      <td>Real Madrid CF (Spain)</td>\n      <td>70</td>\n    </tr>\n    <tr>\n      <th>3</th>\n      <td>Chelsea (England)</td>\n      <td>68</td>\n    </tr>\n    <tr>\n      <th>4</th>\n      <td>Real Madrid CF (Spain)</td>\n      <td>67</td>\n    </tr>\n    <tr>\n      <th>...</th>\n      <td>...</td>\n      <td>...</td>\n    </tr>\n    <tr>\n      <th>1473</th>\n      <td>Lechia Gdańsk (Poland)</td>\n      <td>9</td>\n    </tr>\n    <tr>\n      <th>1474</th>\n      <td>KAA Gent (Belgium)</td>\n      <td>6</td>\n    </tr>\n    <tr>\n      <th>1475</th>\n      <td>Lierse SK (Belgium)</td>\n      <td>5</td>\n    </tr>\n    <tr>\n      <th>1476</th>\n      <td>Waasland-Beveren (Belgium)</td>\n      <td>4</td>\n    </tr>\n    <tr>\n      <th>1477</th>\n      <td>KV Oostende (Belgium)</td>\n      <td>3</td>\n    </tr>\n  </tbody>\n</table>\n<p>1478 rows × 2 columns</p>\n</div>"
     },
     "metadata": {},
     "execution_count": 19
    }
   ],
   "source": [
    "# concatenating team name with country name\n",
    "query10 = pd.read_sql_query(\n",
    "    '''\n",
    "    WITH sub_q AS (\n",
    "        SELECT  \n",
    "              team_long_name || ' (' || name || ')' AS Team,\n",
    "              SUM(home_team_goal) AS Goal\n",
    "        FROM Match AS m\n",
    "        LEFT JOIN Country as c\n",
    "        ON m.country_id = c.id\n",
    "        LEFT JOIN Team AS t\n",
    "        ON m.home_team_api_id = t.team_api_id  \n",
    "        GROUP BY Season, Name, Team\n",
    "        ORDER BY Goal DESC\n",
    "        )\n",
    "        SELECT \n",
    "              Team, \n",
    "              Goal\n",
    "        FROM sub_q\n",
    "        \n",
    "    ''', conn\n",
    ")\n",
    "query10\n"
   ]
  },
  {
   "cell_type": "code",
   "execution_count": 20,
   "metadata": {},
   "outputs": [
    {
     "output_type": "display_data",
     "data": {
      "application/vnd.plotly.v1+json": {
       "config": {
        "plotlyServerURL": "https://plot.ly"
       },
       "data": [
        {
         "branchvalues": "total",
         "customdata": [
          [
           8,
           15,
           11,
           8
          ],
          [
           32,
           39,
           31,
           32
          ],
          [
           30,
           34,
           21,
           30
          ],
          [
           55,
           35,
           29,
           55
          ],
          [
           16,
           22,
           19,
           16
          ],
          [
           2,
           11,
           6,
           2
          ],
          [
           17,
           24,
           13,
           17
          ],
          [
           50,
           47,
           39,
           50
          ],
          [
           31,
           18,
           27,
           31
          ],
          [
           53,
           22,
           39,
           53
          ],
          [
           30,
           36,
           29,
           30
          ],
          [
           75,
           37,
           40,
           75
          ],
          [
           82,
           28,
           26,
           82
          ],
          [
           67,
           47,
           38,
           67
          ],
          [
           35,
           41,
           48,
           35
          ],
          [
           103,
           9,
           24,
           103
          ],
          [
           7,
           4,
           4,
           7
          ],
          [
           6,
           5,
           8,
           6
          ],
          [
           16,
           17,
           12,
           16
          ],
          [
           97,
           21,
           34,
           97
          ],
          [
           45,
           57,
           50,
           45
          ],
          [
           55,
           42,
           35,
           55
          ],
          [
           80,
           41,
           31,
           80
          ],
          [
           103,
           25,
           24,
           103
          ],
          [
           85,
           24,
           34,
           85
          ],
          [
           13,
           15,
           10,
           13
          ],
          [
           76,
           26,
           34,
           76
          ],
          [
           30,
           21,
           25,
           30
          ],
          [
           14,
           7,
           17,
           14
          ],
          [
           29,
           26,
           21,
           29
          ],
          [
           5,
           9,
           5,
           5
          ],
          [
           12,
           15,
           7,
           12
          ],
          [
           41,
           51,
           39,
           41
          ],
          [
           27,
           29,
           20,
           27
          ],
          [
           88,
           18,
           30,
           88
          ],
          [
           71,
           34,
           31,
           71
          ],
          [
           5,
           9,
           5,
           5
          ],
          [
           6,
           8,
           5,
           6
          ],
          [
           11,
           15,
           12,
           11
          ],
          [
           48,
           31,
           35,
           48
          ],
          [
           60,
           27,
           37,
           60
          ],
          [
           9,
           7,
           3,
           9
          ],
          [
           8,
           5,
           6,
           8
          ],
          [
           22,
           32,
           25,
           22
          ],
          [
           55,
           38,
           31,
           55
          ],
          [
           52,
           46,
           34,
           52
          ],
          [
           5,
           9,
           5,
           5
          ],
          [
           6,
           8,
           5,
           6
          ],
          [
           57,
           29,
           27,
           57
          ],
          [
           120,
           9,
           23,
           120
          ],
          [
           12,
           25,
           18,
           12
          ],
          [
           101,
           17,
           34,
           101
          ],
          [
           46,
           52,
           54,
           46
          ],
          [
           75,
           13,
           18,
           75
          ],
          [
           42,
           39,
           24,
           42
          ],
          [
           20,
           28,
           9,
           20
          ],
          [
           1,
           12,
           6,
           1
          ],
          [
           2,
           7,
           8,
           2
          ],
          [
           18,
           31,
           19,
           18
          ],
          [
           6,
           9,
           4,
           6
          ],
          [
           16,
           23,
           19,
           16
          ],
          [
           66,
           50,
           36,
           66
          ],
          [
           1,
           11,
           7,
           1
          ],
          [
           7,
           16,
           15,
           7
          ],
          [
           5,
           9,
           3,
           5
          ],
          [
           46,
           40,
           33,
           46
          ],
          [
           12,
           15,
           11,
           12
          ],
          [
           13,
           11,
           14,
           13
          ],
          [
           23,
           22,
           12,
           23
          ],
          [
           30,
           17,
           17,
           30
          ],
          [
           76,
           33,
           43,
           76
          ],
          [
           19,
           33,
           16,
           19
          ],
          [
           25,
           35,
           12,
           25
          ],
          [
           18,
           20,
           11,
           18
          ],
          [
           32,
           28,
           25,
           32
          ],
          [
           131,
           9,
           12,
           131
          ],
          [
           103,
           14,
           26,
           103
          ],
          [
           109,
           13,
           14,
           109
          ],
          [
           3,
           10,
           4,
           3
          ],
          [
           6,
           10,
           1,
           6
          ],
          [
           72,
           33,
           31,
           72
          ],
          [
           7,
           5,
           5,
           7
          ],
          [
           16,
           29,
           8,
           16
          ],
          [
           62,
           37,
           53,
           62
          ],
          [
           65,
           41,
           37,
           65
          ],
          [
           6,
           9,
           4,
           6
          ],
          [
           28,
           24,
           24,
           28
          ],
          [
           48,
           38,
           38,
           48
          ],
          [
           3,
           11,
           3,
           3
          ],
          [
           102,
           6,
           16,
           102
          ],
          [
           80,
           32,
           24,
           80
          ],
          [
           70,
           41,
           32,
           70
          ],
          [
           50,
           37,
           27,
           50
          ],
          [
           43,
           35,
           30,
           43
          ],
          [
           4,
           10,
           3,
           4
          ],
          [
           44,
           26,
           37,
           44
          ],
          [
           85,
           19,
           32,
           85
          ],
          [
           69,
           30,
           37,
           69
          ],
          [
           10,
           23,
           21,
           10
          ],
          [
           6,
           8,
           3,
           6
          ],
          [
           62,
           43,
           38,
           62
          ],
          [
           5,
           8,
           4,
           5
          ],
          [
           9,
           19,
           10,
           9
          ],
          [
           3,
           5,
           7,
           3
          ],
          [
           86,
           23,
           27,
           86
          ],
          [
           80,
           33,
           37,
           80
          ],
          [
           5,
           6,
           6,
           5
          ],
          [
           6,
           9,
           4,
           6
          ],
          [
           52,
           38,
           24,
           52
          ],
          [
           5,
           7,
           7,
           5
          ],
          [
           42,
           23,
           25,
           42
          ],
          [
           74,
           38,
           39,
           74
          ],
          [
           62,
           51,
           39,
           62
          ],
          [
           18,
           25,
           19,
           18
          ],
          [
           81,
           24,
           47,
           81
          ],
          [
           11,
           15,
           8,
           11
          ],
          [
           31,
           37,
           27,
           31
          ],
          [
           71,
           42,
           30,
           71
          ],
          [
           10,
           16,
           12,
           10
          ],
          [
           12,
           10,
           8,
           12
          ],
          [
           55,
           47,
           34,
           55
          ],
          [
           26,
           40,
           29,
           26
          ],
          [
           62,
           41,
           33,
           62
          ],
          [
           66,
           42,
           25,
           66
          ],
          [
           21,
           22,
           14,
           21
          ],
          [
           59,
           41,
           36,
           59
          ],
          [
           38,
           40,
           24,
           38
          ],
          [
           33,
           44,
           38,
           33
          ],
          [
           21,
           35,
           20,
           21
          ],
          [
           7,
           7,
           5,
           7
          ],
          [
           90,
           24,
           37,
           90
          ],
          [
           48,
           46,
           39,
           48
          ],
          [
           63,
           30,
           27,
           63
          ],
          [
           105,
           16,
           30,
           105
          ],
          [
           63,
           27,
           19,
           63
          ],
          [
           3,
           9,
           3,
           3
          ],
          [
           61,
           20,
           25,
           61
          ],
          [
           38,
           37,
           16,
           38
          ],
          [
           8,
           16,
           7,
           8
          ],
          [
           56,
           27,
           23,
           56
          ],
          [
           50,
           27,
           29,
           50
          ],
          [
           17,
           9,
           7,
           17
          ],
          [
           35,
           32,
           24,
           35
          ],
          [
           5,
           8,
           4,
           5
          ],
          [
           48,
           72,
           32,
           48
          ],
          [
           43,
           27,
           35,
           43
          ],
          [
           93,
           20,
           39,
           93
          ],
          [
           81,
           39,
           31,
           81
          ],
          [
           4,
           15,
           0,
           4
          ],
          [
           12,
           16,
           10,
           12
          ],
          [
           13,
           23,
           19,
           13
          ],
          [
           74,
           19,
           27,
           74
          ],
          [
           47,
           36,
           37,
           47
          ],
          [
           81,
           16,
           23,
           81
          ],
          [
           19,
           8,
           11,
           19
          ],
          [
           9,
           10,
           11,
           9
          ],
          [
           48,
           38,
           28,
           48
          ],
          [
           15,
           19,
           29,
           15
          ],
          [
           86,
           23,
           43,
           86
          ],
          [
           9,
           19,
           10,
           9
          ],
          [
           6,
           8,
           4,
           6
          ],
          [
           113,
           21,
           18,
           113
          ],
          [
           116,
           20,
           16,
           116
          ],
          [
           5,
           5,
           9,
           5
          ],
          [
           92,
           25,
           34,
           92
          ],
          [
           71,
           35,
           27,
           71
          ],
          [
           12,
           22,
           15,
           12
          ],
          [
           69,
           49,
           33,
           69
          ],
          [
           67,
           45,
           40,
           67
          ],
          [
           44,
           39,
           36,
           44
          ],
          [
           48,
           43,
           28,
           48
          ],
          [
           95,
           17,
           38,
           95
          ],
          [
           13,
           19,
           13,
           13
          ],
          [
           22,
           24,
           17,
           22
          ],
          [
           53,
           44,
           36,
           53
          ],
          [
           27,
           25,
           24,
           27
          ],
          [
           4,
           6,
           8,
           4
          ],
          [
           69,
           41,
           42,
           69
          ],
          [
           10,
           12,
           8,
           10
          ],
          [
           91,
           21,
           40,
           91
          ],
          [
           80,
           30,
           42,
           80
          ],
          [
           16,
           16,
           13,
           16
          ],
          [
           34,
           21,
           20,
           34
          ],
          [
           31,
           20,
           17,
           31
          ],
          [
           105,
           13,
           18,
           105
          ],
          [
           67,
           36,
           30,
           67
          ],
          [
           102,
           18,
           32,
           102
          ],
          [
           50,
           31,
           32,
           50
          ],
          [
           16,
           25,
           16,
           16
          ],
          [
           4,
           14,
           1,
           4
          ],
          [
           38,
           28,
           24,
           38
          ],
          [
           19,
           24,
           32,
           19
          ],
          [
           26,
           14,
           20,
           26
          ],
          [
           63,
           40,
           47,
           63
          ],
          [
           4,
           8,
           3,
           4
          ],
          [
           13,
           19,
           6,
           13
          ],
          [
           15,
           24,
           18,
           15
          ],
          [
           16,
           17,
           14,
           16
          ],
          [
           30,
           22,
           24,
           30
          ],
          [
           42,
           37,
           35,
           42
          ],
          [
           19,
           22,
           16,
           19
          ],
          [
           4,
           11,
           4,
           4
          ],
          [
           67,
           45,
           40,
           67
          ],
          [
           49,
           25,
           21,
           49
          ],
          [
           25,
           31,
           12,
           25
          ],
          [
           79,
           6,
           21,
           79
          ],
          [
           20,
           30,
           26,
           20
          ],
          [
           56,
           7,
           13,
           56
          ],
          [
           41,
           44,
           10,
           41
          ],
          [
           4,
           7,
           8,
           4
          ],
          [
           31,
           35,
           29,
           31
          ],
          [
           129,
           12,
           11,
           129
          ],
          [
           57,
           28,
           29,
           57
          ],
          [
           38,
           35,
           22,
           38
          ],
          [
           25,
           23,
           28,
           25
          ],
          [
           29,
           30,
           17,
           29
          ],
          [
           3,
           7,
           9,
           3
          ],
          [
           43,
           45,
           36,
           43
          ],
          [
           44,
           39,
           36,
           44
          ],
          [
           97,
           19,
           35,
           97
          ],
          [
           32,
           34,
           10,
           32
          ],
          [
           18,
           19,
           10,
           18
          ],
          [
           54,
           38,
           28,
           54
          ],
          [
           19,
           29,
           27,
           19
          ],
          [
           38,
           21,
           17,
           38
          ],
          [
           12,
           20,
           13,
           12
          ],
          [
           81,
           25,
           18,
           81
          ],
          [
           20,
           22,
           9,
           20
          ],
          [
           38,
           38,
           26,
           38
          ],
          [
           65,
           38,
           33,
           65
          ],
          [
           4,
           7,
           6,
           4
          ],
          [
           13,
           17,
           8,
           13
          ],
          [
           102,
           7,
           15,
           102
          ],
          [
           34,
           37,
           24,
           34
          ],
          [
           2,
           9,
           6,
           2
          ],
          [
           56,
           40,
           40,
           56
          ],
          [
           45,
           29,
           32,
           45
          ],
          [
           56,
           35,
           42,
           56
          ],
          [
           20,
           19,
           18,
           20
          ],
          [
           11,
           17,
           7,
           11
          ],
          [
           91,
           34,
           27,
           91
          ],
          [
           26,
           28,
           21,
           26
          ],
          [
           18,
           26,
           15,
           18
          ],
          [
           36,
           20,
           20,
           36
          ],
          [
           12,
           14,
           8,
           12
          ],
          [
           79,
           18,
           27,
           79
          ],
          [
           35,
           34,
           22,
           35
          ],
          [
           41,
           29,
           36,
           41
          ],
          [
           53,
           44,
           35,
           53
          ],
          [
           34,
           55,
           44,
           34
          ],
          [
           18,
           19,
           20,
           18
          ],
          [
           63,
           39,
           50,
           63
          ],
          [
           30,
           25,
           21,
           30
          ],
          [
           66,
           23,
           17,
           66
          ],
          [
           69,
           40,
           43,
           69
          ],
          [
           49,
           56,
           47,
           49
          ],
          [
           37,
           27,
           31,
           37
          ],
          [
           52,
           40,
           44,
           52
          ],
          [
           5,
           6,
           4,
           5
          ],
          [
           3,
           10,
           4,
           3
          ],
          [
           36,
           30,
           29,
           36
          ],
          [
           88,
           28,
           36,
           88
          ],
          [
           62,
           40,
           50,
           62
          ],
          [
           3,
           7,
           5,
           3
          ],
          [
           6,
           9,
           2,
           6
          ],
          [
           31,
           31,
           33,
           31
          ],
          [
           8,
           6,
           5,
           8
          ],
          [
           4,
           10,
           5,
           4
          ],
          [
           77,
           37,
           37,
           77
          ],
          [
           6,
           5,
           6,
           6
          ],
          [
           15,
           22,
           8,
           15
          ],
          [
           23,
           29,
           16,
           23
          ],
          [
           90,
           28,
           34,
           90
          ],
          [
           49,
           31,
           34,
           49
          ],
          [
           58,
           52,
           26,
           58
          ],
          [
           7,
           17,
           10,
           7
          ],
          [
           74,
           31,
           31,
           74
          ],
          [
           77,
           26,
           30,
           77
          ],
          [
           60,
           31,
           45,
           60
          ],
          [
           53,
           35,
           36,
           53
          ],
          [
           41,
           50,
           33,
           41
          ],
          [
           14,
           20,
           14,
           14
          ],
          [
           6,
           7,
           6,
           6
          ],
          [
           47,
           52,
           34,
           47
          ],
          [
           55,
           46,
           32,
           55
          ],
          [
           30,
           29,
           31,
           30
          ],
          [
           28,
           34,
           33,
           28
          ],
          [
           31,
           50,
           21,
           31
          ],
          [
           64,
           30,
           26,
           64
          ],
          [
           16,
           28,
           13,
           16
          ],
          [
           6,
           9,
           4,
           6
          ],
          [
           35,
           28,
           27,
           35
          ],
          [
           13,
           12,
           5,
           13
          ],
          [
           29,
           30,
           17,
           29
          ],
          [
           59,
           26,
           35,
           59
          ],
          [
           49.446913580246914,
           "(?)",
           "(?)",
           49.446913580246914
          ],
          [
           68.16834532374101,
           "(?)",
           "(?)",
           68.16834532374101
          ],
          [
           61.815305371596764,
           "(?)",
           "(?)",
           61.815305371596764
          ],
          [
           62.94579945799458,
           "(?)",
           "(?)",
           62.94579945799458
          ],
          [
           68.92892679459844,
           "(?)",
           "(?)",
           68.92892679459844
          ],
          [
           66.07771135781384,
           "(?)",
           "(?)",
           66.07771135781384
          ],
          [
           51.160919540229884,
           "(?)",
           "(?)",
           51.160919540229884
          ],
          [
           58.9647577092511,
           "(?)",
           "(?)",
           58.9647577092511
          ],
          [
           62.439473684210526,
           "(?)",
           "(?)",
           62.439473684210526
          ],
          [
           72.2983164983165,
           "(?)",
           "(?)",
           72.2983164983165
          ],
          [
           63.90769230769231,
           "(?)",
           "(?)",
           63.90769230769231
          ]
         ],
         "domain": {
          "x": [
           0,
           1
          ],
          "y": [
           0,
           1
          ]
         },
         "hovertemplate": "labels=%{label}<br>Won_sum=%{value}<br>parent=%{parent}<br>id=%{id}<br>Won=%{color}<br>Lost=%{customdata[1]}<br>Tie=%{customdata[2]}<extra></extra>",
         "ids": [
          "Germany/1. FC Kaiserslautern",
          "Germany/1. FC Köln",
          "Germany/1. FC Nürnberg",
          "Germany/1. FSV Mainz 05",
          "France/AC Ajaccio",
          "France/AC Arles-Avignon",
          "Switzerland/AC Bellinzona",
          "Netherlands/ADO Den Haag",
          "France/AJ Auxerre",
          "France/AS Monaco",
          "France/AS Nancy-Lorraine",
          "France/AS Saint-Étienne",
          "Netherlands/AZ",
          "Scotland/Aberdeen",
          "Portugal/Académica de Coimbra",
          "Netherlands/Ajax",
          "Portugal/Amadora",
          "France/Angers SCO",
          "Poland/Arka Gdynia",
          "England/Arsenal",
          "England/Aston Villa",
          "Italy/Atalanta",
          "Spain/Athletic Club de Bilbao",
          "Spain/Atlético Madrid",
          "Switzerland/BSC Young Boys",
          "Italy/Bari",
          "Germany/Bayer 04 Leverkusen",
          "Belgium/Beerschot AC",
          "England/Birmingham City",
          "England/Blackburn Rovers",
          "England/Blackpool",
          "Portugal/Boavista FC",
          "Italy/Bologna",
          "England/Bolton Wanderers",
          "Germany/Borussia Dortmund",
          "Germany/Borussia Mönchengladbach",
          "England/Bournemouth",
          "Italy/Brescia",
          "England/Burnley",
          "Spain/CA Osasuna",
          "Portugal/CD Nacional",
          "Spain/CD Numancia",
          "Spain/CD Tenerife",
          "Portugal/CF Os Belenenses",
          "Portugal/CS Marítimo",
          "Italy/Cagliari",
          "England/Cardiff City",
          "Italy/Carpi",
          "Italy/Catania",
          "Scotland/Celtic",
          "Italy/Cesena",
          "England/Chelsea",
          "Italy/Chievo Verona",
          "Belgium/Club Brugge KV",
          "Poland/Cracovia",
          "England/Crystal Palace",
          "Spain/Córdoba CF",
          "Germany/DSC Arminia Bielefeld",
          "Netherlands/De Graafschap",
          "France/Dijon FCO",
          "Scotland/Dundee FC",
          "Scotland/Dundee United",
          "Scotland/Dunfermline Athletic",
          "France/ES Troyes AC",
          "Germany/Eintracht Braunschweig",
          "Germany/Eintracht Frankfurt",
          "Spain/Elche CF",
          "Italy/Empoli",
          "France/En Avant de Guingamp",
          "Portugal/Estoril Praia",
          "England/Everton",
          "Netherlands/Excelsior",
          "Switzerland/FC Aarau",
          "Portugal/FC Arouca",
          "Germany/FC Augsburg",
          "Spain/FC Barcelona",
          "Switzerland/FC Basel",
          "Germany/FC Bayern Munich",
          "Netherlands/FC Dordrecht",
          "Germany/FC Energie Cottbus",
          "Netherlands/FC Groningen",
          "Germany/FC Ingolstadt 04",
          "Switzerland/FC Lausanne-Sports",
          "France/FC Lorient",
          "Switzerland/FC Luzern",
          "France/FC Metz",
          "France/FC Nantes",
          "Portugal/FC Paços de Ferreira",
          "Portugal/FC Penafiel",
          "Portugal/FC Porto",
          "Germany/FC Schalke 04",
          "Switzerland/FC Sion",
          "France/FC Sochaux-Montbéliard",
          "Switzerland/FC St. Gallen",
          "Germany/FC St. Pauli",
          "Switzerland/FC Thun",
          "Netherlands/FC Twente",
          "Netherlands/FC Utrecht",
          "Switzerland/FC Vaduz",
          "Netherlands/FC Volendam",
          "Switzerland/FC Zürich",
          "Belgium/FCV Dender EH",
          "Scotland/Falkirk",
          "Portugal/Feirense",
          "Netherlands/Feyenoord",
          "Italy/Fiorentina",
          "Germany/Fortuna Düsseldorf",
          "Italy/Frosinone",
          "England/Fulham",
          "France/GFC Ajaccio",
          "Poland/GKS Bełchatów",
          "Italy/Genoa",
          "Spain/Getafe CF",
          "Portugal/Gil Vicente FC",
          "France/Girondins de Bordeaux",
          "Netherlands/Go Ahead Eagles",
          "Spain/Granada CF",
          "Switzerland/Grasshopper Club Zürich",
          "France/Grenoble Foot 38",
          "Poland/Górnik Łęczna",
          "Germany/Hamburger SV",
          "Scotland/Hamilton Academical FC",
          "Germany/Hannover 96",
          "Scotland/Heart of Midlothian",
          "Italy/Hellas Verona",
          "Netherlands/Heracles Almelo",
          "Germany/Hertha BSC Berlin",
          "Scotland/Hibernian",
          "England/Hull City",
          "Spain/Hércules Club de Fútbol",
          "Italy/Inter",
          "Scotland/Inverness Caledonian Thistle",
          "Poland/Jagiellonia Białystok",
          "Italy/Juventus",
          "Belgium/KAA Gent",
          "Belgium/KAS Eupen",
          "Belgium/KRC Genk",
          "Belgium/KSV Cercle Brugge",
          "Belgium/KSV Roeselare",
          "Belgium/KV Kortrijk",
          "Belgium/KV Mechelen",
          "Belgium/KV Oostende",
          "Belgium/KVC Westerlo",
          "Germany/Karlsruher SC",
          "Scotland/Kilmarnock",
          "Poland/Korona Kielce",
          "France/LOSC Lille",
          "Italy/Lazio",
          "France/Le Havre AC",
          "France/Le Mans FC",
          "Italy/Lecce",
          "Poland/Lech Poznań",
          "Poland/Lechia Gdańsk",
          "Poland/Legia Warszawa",
          "England/Leicester City",
          "Portugal/Leixões SC",
          "Spain/Levante UD",
          "Belgium/Lierse SK",
          "England/Liverpool",
          "Italy/Livorno",
          "Switzerland/Lugano",
          "England/Manchester City",
          "England/Manchester United",
          "England/Middlesbrough",
          "Italy/Milan",
          "France/Montpellier Hérault SC",
          "Portugal/Moreirense FC",
          "Scotland/Motherwell",
          "Spain/Málaga CF",
          "Netherlands/N.E.C.",
          "Netherlands/NAC Breda",
          "Italy/Napoli",
          "Portugal/Naval 1° de Maio",
          "Switzerland/Neuchâtel Xamax",
          "England/Newcastle United",
          "England/Norwich City",
          "Italy/Novara",
          "France/OGC Nice",
          "Poland/Odra Wodzisław",
          "France/Olympique Lyonnais",
          "France/Olympique de Marseille",
          "Belgium/Oud-Heverlee Leuven",
          "Poland/P. Warszawa",
          "Netherlands/PEC Zwolle",
          "Netherlands/PSV",
          "Italy/Palermo",
          "France/Paris Saint-Germain",
          "Italy/Parma",
          "Scotland/Partick Thistle F.C.",
          "Italy/Pescara",
          "Poland/Piast Gliwice",
          "Poland/Podbeskidzie Bielsko-Biała",
          "Poland/Pogoń Szczecin",
          "Poland/Polonia Bytom",
          "Portugal/Portimonense",
          "England/Portsmouth",
          "England/Queens Park Rangers",
          "Belgium/RAEC Mons",
          "Spain/RC Celta de Vigo",
          "Spain/RC Deportivo de La Coruña",
          "France/RC Lens",
          "Spain/RC Recreativo",
          "Spain/RCD Espanyol",
          "Spain/RCD Mallorca",
          "Netherlands/RKC Waalwijk",
          "Belgium/RSC Anderlecht",
          "Spain/Racing Santander",
          "Scotland/Rangers",
          "Spain/Rayo Vallecano",
          "England/Reading",
          "Spain/Real Betis Balompié",
          "Spain/Real Madrid CF",
          "Spain/Real Sociedad",
          "Spain/Real Sporting de Gijón",
          "Spain/Real Valladolid",
          "Spain/Real Zaragoza",
          "Italy/Reggio Calabria",
          "Portugal/Rio Ave FC",
          "Netherlands/Roda JC Kerkrade",
          "Italy/Roma",
          "Scotland/Ross County FC",
          "Belgium/Royal Excel Mouscron",
          "Poland/Ruch Chorzów",
          "Portugal/S.C. Olhanense",
          "France/SC Bastia",
          "Portugal/SC Beira Mar",
          "Portugal/SC Braga",
          "Netherlands/SC Cambuur",
          "Germany/SC Freiburg",
          "Netherlands/SC Heerenveen",
          "Germany/SC Paderborn 07",
          "Spain/SD Eibar",
          "Portugal/SL Benfica",
          "France/SM Caen",
          "Germany/SV Darmstadt 98",
          "Germany/SV Werder Bremen",
          "Belgium/SV Zulte-Waregem",
          "Italy/Sampdoria",
          "Italy/Sassuolo",
          "Switzerland/Servette FC",
          "Spain/Sevilla FC",
          "Italy/Siena",
          "Belgium/Sint-Truidense VV",
          "England/Southampton",
          "Netherlands/Sparta Rotterdam",
          "Portugal/Sporting CP",
          "Belgium/Sporting Charleroi",
          "Belgium/Sporting Lokeren",
          "Scotland/St. Johnstone FC",
          "Scotland/St. Mirren",
          "France/Stade Brestois 29",
          "France/Stade Rennais FC",
          "France/Stade de Reims",
          "Belgium/Standard de Liège",
          "England/Stoke City",
          "England/Sunderland",
          "England/Swansea City",
          "Germany/TSG 1899 Hoffenheim",
          "Poland/Termalica Bruk-Bet Nieciecza",
          "Portugal/Tondela",
          "Italy/Torino",
          "England/Tottenham Hotspur",
          "France/Toulouse FC",
          "Portugal/Trofense",
          "Belgium/Tubize",
          "Spain/UD Almería",
          "Spain/UD Las Palmas",
          "France/US Boulogne Cote D'Opale",
          "Italy/Udinese",
          "Portugal/Uniao da Madeira",
          "Portugal/União de Leiria, SAD",
          "Netherlands/VVV-Venlo",
          "Spain/Valencia CF",
          "France/Valenciennes FC",
          "Germany/VfB Stuttgart",
          "Germany/VfL Bochum",
          "Germany/VfL Wolfsburg",
          "Spain/Villarreal CF",
          "Netherlands/Vitesse",
          "Portugal/Vitória Guimarães",
          "Portugal/Vitória Setúbal",
          "Belgium/Waasland-Beveren",
          "England/Watford",
          "England/West Bromwich Albion",
          "England/West Ham United",
          "Poland/Widzew Łódź",
          "England/Wigan Athletic",
          "Netherlands/Willem II",
          "Poland/Wisła Kraków",
          "England/Wolverhampton Wanderers",
          "Spain/Xerez Club Deportivo",
          "Poland/Zagłębie Lubin",
          "Poland/Zawisza Bydgoszcz",
          "France/Évian Thonon Gaillard FC",
          "Poland/Śląsk Wrocław",
          "Belgium",
          "England",
          "France",
          "Germany",
          "Italy",
          "Netherlands",
          "Poland",
          "Portugal",
          "Scotland",
          "Spain",
          "Switzerland"
         ],
         "labels": [
          "1. FC Kaiserslautern",
          "1. FC Köln",
          "1. FC Nürnberg",
          "1. FSV Mainz 05",
          "AC Ajaccio",
          "AC Arles-Avignon",
          "AC Bellinzona",
          "ADO Den Haag",
          "AJ Auxerre",
          "AS Monaco",
          "AS Nancy-Lorraine",
          "AS Saint-Étienne",
          "AZ",
          "Aberdeen",
          "Académica de Coimbra",
          "Ajax",
          "Amadora",
          "Angers SCO",
          "Arka Gdynia",
          "Arsenal",
          "Aston Villa",
          "Atalanta",
          "Athletic Club de Bilbao",
          "Atlético Madrid",
          "BSC Young Boys",
          "Bari",
          "Bayer 04 Leverkusen",
          "Beerschot AC",
          "Birmingham City",
          "Blackburn Rovers",
          "Blackpool",
          "Boavista FC",
          "Bologna",
          "Bolton Wanderers",
          "Borussia Dortmund",
          "Borussia Mönchengladbach",
          "Bournemouth",
          "Brescia",
          "Burnley",
          "CA Osasuna",
          "CD Nacional",
          "CD Numancia",
          "CD Tenerife",
          "CF Os Belenenses",
          "CS Marítimo",
          "Cagliari",
          "Cardiff City",
          "Carpi",
          "Catania",
          "Celtic",
          "Cesena",
          "Chelsea",
          "Chievo Verona",
          "Club Brugge KV",
          "Cracovia",
          "Crystal Palace",
          "Córdoba CF",
          "DSC Arminia Bielefeld",
          "De Graafschap",
          "Dijon FCO",
          "Dundee FC",
          "Dundee United",
          "Dunfermline Athletic",
          "ES Troyes AC",
          "Eintracht Braunschweig",
          "Eintracht Frankfurt",
          "Elche CF",
          "Empoli",
          "En Avant de Guingamp",
          "Estoril Praia",
          "Everton",
          "Excelsior",
          "FC Aarau",
          "FC Arouca",
          "FC Augsburg",
          "FC Barcelona",
          "FC Basel",
          "FC Bayern Munich",
          "FC Dordrecht",
          "FC Energie Cottbus",
          "FC Groningen",
          "FC Ingolstadt 04",
          "FC Lausanne-Sports",
          "FC Lorient",
          "FC Luzern",
          "FC Metz",
          "FC Nantes",
          "FC Paços de Ferreira",
          "FC Penafiel",
          "FC Porto",
          "FC Schalke 04",
          "FC Sion",
          "FC Sochaux-Montbéliard",
          "FC St. Gallen",
          "FC St. Pauli",
          "FC Thun",
          "FC Twente",
          "FC Utrecht",
          "FC Vaduz",
          "FC Volendam",
          "FC Zürich",
          "FCV Dender EH",
          "Falkirk",
          "Feirense",
          "Feyenoord",
          "Fiorentina",
          "Fortuna Düsseldorf",
          "Frosinone",
          "Fulham",
          "GFC Ajaccio",
          "GKS Bełchatów",
          "Genoa",
          "Getafe CF",
          "Gil Vicente FC",
          "Girondins de Bordeaux",
          "Go Ahead Eagles",
          "Granada CF",
          "Grasshopper Club Zürich",
          "Grenoble Foot 38",
          "Górnik Łęczna",
          "Hamburger SV",
          "Hamilton Academical FC",
          "Hannover 96",
          "Heart of Midlothian",
          "Hellas Verona",
          "Heracles Almelo",
          "Hertha BSC Berlin",
          "Hibernian",
          "Hull City",
          "Hércules Club de Fútbol",
          "Inter",
          "Inverness Caledonian Thistle",
          "Jagiellonia Białystok",
          "Juventus",
          "KAA Gent",
          "KAS Eupen",
          "KRC Genk",
          "KSV Cercle Brugge",
          "KSV Roeselare",
          "KV Kortrijk",
          "KV Mechelen",
          "KV Oostende",
          "KVC Westerlo",
          "Karlsruher SC",
          "Kilmarnock",
          "Korona Kielce",
          "LOSC Lille",
          "Lazio",
          "Le Havre AC",
          "Le Mans FC",
          "Lecce",
          "Lech Poznań",
          "Lechia Gdańsk",
          "Legia Warszawa",
          "Leicester City",
          "Leixões SC",
          "Levante UD",
          "Lierse SK",
          "Liverpool",
          "Livorno",
          "Lugano",
          "Manchester City",
          "Manchester United",
          "Middlesbrough",
          "Milan",
          "Montpellier Hérault SC",
          "Moreirense FC",
          "Motherwell",
          "Málaga CF",
          "N.E.C.",
          "NAC Breda",
          "Napoli",
          "Naval 1° de Maio",
          "Neuchâtel Xamax",
          "Newcastle United",
          "Norwich City",
          "Novara",
          "OGC Nice",
          "Odra Wodzisław",
          "Olympique Lyonnais",
          "Olympique de Marseille",
          "Oud-Heverlee Leuven",
          "P. Warszawa",
          "PEC Zwolle",
          "PSV",
          "Palermo",
          "Paris Saint-Germain",
          "Parma",
          "Partick Thistle F.C.",
          "Pescara",
          "Piast Gliwice",
          "Podbeskidzie Bielsko-Biała",
          "Pogoń Szczecin",
          "Polonia Bytom",
          "Portimonense",
          "Portsmouth",
          "Queens Park Rangers",
          "RAEC Mons",
          "RC Celta de Vigo",
          "RC Deportivo de La Coruña",
          "RC Lens",
          "RC Recreativo",
          "RCD Espanyol",
          "RCD Mallorca",
          "RKC Waalwijk",
          "RSC Anderlecht",
          "Racing Santander",
          "Rangers",
          "Rayo Vallecano",
          "Reading",
          "Real Betis Balompié",
          "Real Madrid CF",
          "Real Sociedad",
          "Real Sporting de Gijón",
          "Real Valladolid",
          "Real Zaragoza",
          "Reggio Calabria",
          "Rio Ave FC",
          "Roda JC Kerkrade",
          "Roma",
          "Ross County FC",
          "Royal Excel Mouscron",
          "Ruch Chorzów",
          "S.C. Olhanense",
          "SC Bastia",
          "SC Beira Mar",
          "SC Braga",
          "SC Cambuur",
          "SC Freiburg",
          "SC Heerenveen",
          "SC Paderborn 07",
          "SD Eibar",
          "SL Benfica",
          "SM Caen",
          "SV Darmstadt 98",
          "SV Werder Bremen",
          "SV Zulte-Waregem",
          "Sampdoria",
          "Sassuolo",
          "Servette FC",
          "Sevilla FC",
          "Siena",
          "Sint-Truidense VV",
          "Southampton",
          "Sparta Rotterdam",
          "Sporting CP",
          "Sporting Charleroi",
          "Sporting Lokeren",
          "St. Johnstone FC",
          "St. Mirren",
          "Stade Brestois 29",
          "Stade Rennais FC",
          "Stade de Reims",
          "Standard de Liège",
          "Stoke City",
          "Sunderland",
          "Swansea City",
          "TSG 1899 Hoffenheim",
          "Termalica Bruk-Bet Nieciecza",
          "Tondela",
          "Torino",
          "Tottenham Hotspur",
          "Toulouse FC",
          "Trofense",
          "Tubize",
          "UD Almería",
          "UD Las Palmas",
          "US Boulogne Cote D'Opale",
          "Udinese",
          "Uniao da Madeira",
          "União de Leiria, SAD",
          "VVV-Venlo",
          "Valencia CF",
          "Valenciennes FC",
          "VfB Stuttgart",
          "VfL Bochum",
          "VfL Wolfsburg",
          "Villarreal CF",
          "Vitesse",
          "Vitória Guimarães",
          "Vitória Setúbal",
          "Waasland-Beveren",
          "Watford",
          "West Bromwich Albion",
          "West Ham United",
          "Widzew Łódź",
          "Wigan Athletic",
          "Willem II",
          "Wisła Kraków",
          "Wolverhampton Wanderers",
          "Xerez Club Deportivo",
          "Zagłębie Lubin",
          "Zawisza Bydgoszcz",
          "Évian Thonon Gaillard FC",
          "Śląsk Wrocław",
          "Belgium",
          "England",
          "France",
          "Germany",
          "Italy",
          "Netherlands",
          "Poland",
          "Portugal",
          "Scotland",
          "Spain",
          "Switzerland"
         ],
         "marker": {
          "coloraxis": "coloraxis",
          "colors": [
           8,
           32,
           30,
           55,
           16,
           2,
           17,
           50,
           31,
           53,
           30,
           75,
           82,
           67,
           35,
           103,
           7,
           6,
           16,
           97,
           45,
           55,
           80,
           103,
           85,
           13,
           76,
           30,
           14,
           29,
           5,
           12,
           41,
           27,
           88,
           71,
           5,
           6,
           11,
           48,
           60,
           9,
           8,
           22,
           55,
           52,
           5,
           6,
           57,
           120,
           12,
           101,
           46,
           75,
           42,
           20,
           1,
           2,
           18,
           6,
           16,
           66,
           1,
           7,
           5,
           46,
           12,
           13,
           23,
           30,
           76,
           19,
           25,
           18,
           32,
           131,
           103,
           109,
           3,
           6,
           72,
           7,
           16,
           62,
           65,
           6,
           28,
           48,
           3,
           102,
           80,
           70,
           50,
           43,
           4,
           44,
           85,
           69,
           10,
           6,
           62,
           5,
           9,
           3,
           86,
           80,
           5,
           6,
           52,
           5,
           42,
           74,
           62,
           18,
           81,
           11,
           31,
           71,
           10,
           12,
           55,
           26,
           62,
           66,
           21,
           59,
           38,
           33,
           21,
           7,
           90,
           48,
           63,
           105,
           63,
           3,
           61,
           38,
           8,
           56,
           50,
           17,
           35,
           5,
           48,
           43,
           93,
           81,
           4,
           12,
           13,
           74,
           47,
           81,
           19,
           9,
           48,
           15,
           86,
           9,
           6,
           113,
           116,
           5,
           92,
           71,
           12,
           69,
           67,
           44,
           48,
           95,
           13,
           22,
           53,
           27,
           4,
           69,
           10,
           91,
           80,
           16,
           34,
           31,
           105,
           67,
           102,
           50,
           16,
           4,
           38,
           19,
           26,
           63,
           4,
           13,
           15,
           16,
           30,
           42,
           19,
           4,
           67,
           49,
           25,
           79,
           20,
           56,
           41,
           4,
           31,
           129,
           57,
           38,
           25,
           29,
           3,
           43,
           44,
           97,
           32,
           18,
           54,
           19,
           38,
           12,
           81,
           20,
           38,
           65,
           4,
           13,
           102,
           34,
           2,
           56,
           45,
           56,
           20,
           11,
           91,
           26,
           18,
           36,
           12,
           79,
           35,
           41,
           53,
           34,
           18,
           63,
           30,
           66,
           69,
           49,
           37,
           52,
           5,
           3,
           36,
           88,
           62,
           3,
           6,
           31,
           8,
           4,
           77,
           6,
           15,
           23,
           90,
           49,
           58,
           7,
           74,
           77,
           60,
           53,
           41,
           14,
           6,
           47,
           55,
           30,
           28,
           31,
           64,
           16,
           6,
           35,
           13,
           29,
           59,
           49.446913580246914,
           68.16834532374101,
           61.815305371596764,
           62.94579945799458,
           68.92892679459844,
           66.07771135781384,
           51.160919540229884,
           58.9647577092511,
           62.439473684210526,
           72.2983164983165,
           63.90769230769231
          ]
         },
         "name": "",
         "parents": [
          "Germany",
          "Germany",
          "Germany",
          "Germany",
          "France",
          "France",
          "Switzerland",
          "Netherlands",
          "France",
          "France",
          "France",
          "France",
          "Netherlands",
          "Scotland",
          "Portugal",
          "Netherlands",
          "Portugal",
          "France",
          "Poland",
          "England",
          "England",
          "Italy",
          "Spain",
          "Spain",
          "Switzerland",
          "Italy",
          "Germany",
          "Belgium",
          "England",
          "England",
          "England",
          "Portugal",
          "Italy",
          "England",
          "Germany",
          "Germany",
          "England",
          "Italy",
          "England",
          "Spain",
          "Portugal",
          "Spain",
          "Spain",
          "Portugal",
          "Portugal",
          "Italy",
          "England",
          "Italy",
          "Italy",
          "Scotland",
          "Italy",
          "England",
          "Italy",
          "Belgium",
          "Poland",
          "England",
          "Spain",
          "Germany",
          "Netherlands",
          "France",
          "Scotland",
          "Scotland",
          "Scotland",
          "France",
          "Germany",
          "Germany",
          "Spain",
          "Italy",
          "France",
          "Portugal",
          "England",
          "Netherlands",
          "Switzerland",
          "Portugal",
          "Germany",
          "Spain",
          "Switzerland",
          "Germany",
          "Netherlands",
          "Germany",
          "Netherlands",
          "Germany",
          "Switzerland",
          "France",
          "Switzerland",
          "France",
          "France",
          "Portugal",
          "Portugal",
          "Portugal",
          "Germany",
          "Switzerland",
          "France",
          "Switzerland",
          "Germany",
          "Switzerland",
          "Netherlands",
          "Netherlands",
          "Switzerland",
          "Netherlands",
          "Switzerland",
          "Belgium",
          "Scotland",
          "Portugal",
          "Netherlands",
          "Italy",
          "Germany",
          "Italy",
          "England",
          "France",
          "Poland",
          "Italy",
          "Spain",
          "Portugal",
          "France",
          "Netherlands",
          "Spain",
          "Switzerland",
          "France",
          "Poland",
          "Germany",
          "Scotland",
          "Germany",
          "Scotland",
          "Italy",
          "Netherlands",
          "Germany",
          "Scotland",
          "England",
          "Spain",
          "Italy",
          "Scotland",
          "Poland",
          "Italy",
          "Belgium",
          "Belgium",
          "Belgium",
          "Belgium",
          "Belgium",
          "Belgium",
          "Belgium",
          "Belgium",
          "Belgium",
          "Germany",
          "Scotland",
          "Poland",
          "France",
          "Italy",
          "France",
          "France",
          "Italy",
          "Poland",
          "Poland",
          "Poland",
          "England",
          "Portugal",
          "Spain",
          "Belgium",
          "England",
          "Italy",
          "Switzerland",
          "England",
          "England",
          "England",
          "Italy",
          "France",
          "Portugal",
          "Scotland",
          "Spain",
          "Netherlands",
          "Netherlands",
          "Italy",
          "Portugal",
          "Switzerland",
          "England",
          "England",
          "Italy",
          "France",
          "Poland",
          "France",
          "France",
          "Belgium",
          "Poland",
          "Netherlands",
          "Netherlands",
          "Italy",
          "France",
          "Italy",
          "Scotland",
          "Italy",
          "Poland",
          "Poland",
          "Poland",
          "Poland",
          "Portugal",
          "England",
          "England",
          "Belgium",
          "Spain",
          "Spain",
          "France",
          "Spain",
          "Spain",
          "Spain",
          "Netherlands",
          "Belgium",
          "Spain",
          "Scotland",
          "Spain",
          "England",
          "Spain",
          "Spain",
          "Spain",
          "Spain",
          "Spain",
          "Spain",
          "Italy",
          "Portugal",
          "Netherlands",
          "Italy",
          "Scotland",
          "Belgium",
          "Poland",
          "Portugal",
          "France",
          "Portugal",
          "Portugal",
          "Netherlands",
          "Germany",
          "Netherlands",
          "Germany",
          "Spain",
          "Portugal",
          "France",
          "Germany",
          "Germany",
          "Belgium",
          "Italy",
          "Italy",
          "Switzerland",
          "Spain",
          "Italy",
          "Belgium",
          "England",
          "Netherlands",
          "Portugal",
          "Belgium",
          "Belgium",
          "Scotland",
          "Scotland",
          "France",
          "France",
          "France",
          "Belgium",
          "England",
          "England",
          "England",
          "Germany",
          "Poland",
          "Portugal",
          "Italy",
          "England",
          "France",
          "Portugal",
          "Belgium",
          "Spain",
          "Spain",
          "France",
          "Italy",
          "Portugal",
          "Portugal",
          "Netherlands",
          "Spain",
          "France",
          "Germany",
          "Germany",
          "Germany",
          "Spain",
          "Netherlands",
          "Portugal",
          "Portugal",
          "Belgium",
          "England",
          "England",
          "England",
          "Poland",
          "England",
          "Netherlands",
          "Poland",
          "England",
          "Spain",
          "Poland",
          "Poland",
          "France",
          "Poland",
          "",
          "",
          "",
          "",
          "",
          "",
          "",
          "",
          "",
          "",
          ""
         ],
         "type": "treemap",
         "values": [
          8,
          32,
          30,
          55,
          16,
          2,
          17,
          50,
          31,
          53,
          30,
          75,
          82,
          67,
          35,
          103,
          7,
          6,
          16,
          97,
          45,
          55,
          80,
          103,
          85,
          13,
          76,
          30,
          14,
          29,
          5,
          12,
          41,
          27,
          88,
          71,
          5,
          6,
          11,
          48,
          60,
          9,
          8,
          22,
          55,
          52,
          5,
          6,
          57,
          120,
          12,
          101,
          46,
          75,
          42,
          20,
          1,
          2,
          18,
          6,
          16,
          66,
          1,
          7,
          5,
          46,
          12,
          13,
          23,
          30,
          76,
          19,
          25,
          18,
          32,
          131,
          103,
          109,
          3,
          6,
          72,
          7,
          16,
          62,
          65,
          6,
          28,
          48,
          3,
          102,
          80,
          70,
          50,
          43,
          4,
          44,
          85,
          69,
          10,
          6,
          62,
          5,
          9,
          3,
          86,
          80,
          5,
          6,
          52,
          5,
          42,
          74,
          62,
          18,
          81,
          11,
          31,
          71,
          10,
          12,
          55,
          26,
          62,
          66,
          21,
          59,
          38,
          33,
          21,
          7,
          90,
          48,
          63,
          105,
          63,
          3,
          61,
          38,
          8,
          56,
          50,
          17,
          35,
          5,
          48,
          43,
          93,
          81,
          4,
          12,
          13,
          74,
          47,
          81,
          19,
          9,
          48,
          15,
          86,
          9,
          6,
          113,
          116,
          5,
          92,
          71,
          12,
          69,
          67,
          44,
          48,
          95,
          13,
          22,
          53,
          27,
          4,
          69,
          10,
          91,
          80,
          16,
          34,
          31,
          105,
          67,
          102,
          50,
          16,
          4,
          38,
          19,
          26,
          63,
          4,
          13,
          15,
          16,
          30,
          42,
          19,
          4,
          67,
          49,
          25,
          79,
          20,
          56,
          41,
          4,
          31,
          129,
          57,
          38,
          25,
          29,
          3,
          43,
          44,
          97,
          32,
          18,
          54,
          19,
          38,
          12,
          81,
          20,
          38,
          65,
          4,
          13,
          102,
          34,
          2,
          56,
          45,
          56,
          20,
          11,
          91,
          26,
          18,
          36,
          12,
          79,
          35,
          41,
          53,
          34,
          18,
          63,
          30,
          66,
          69,
          49,
          37,
          52,
          5,
          3,
          36,
          88,
          62,
          3,
          6,
          31,
          8,
          4,
          77,
          6,
          15,
          23,
          90,
          49,
          58,
          7,
          74,
          77,
          60,
          53,
          41,
          14,
          6,
          47,
          55,
          30,
          28,
          31,
          64,
          16,
          6,
          35,
          13,
          29,
          59,
          810,
          1390,
          1359,
          1107,
          1407,
          1171,
          870,
          908,
          760,
          1485,
          650
         ]
        }
       ],
       "layout": {
        "coloraxis": {
         "colorbar": {
          "title": {
           "text": "Won"
          }
         },
         "colorscale": [
          [
           0,
           "rgb(103,0,31)"
          ],
          [
           0.1,
           "rgb(178,24,43)"
          ],
          [
           0.2,
           "rgb(214,96,77)"
          ],
          [
           0.3,
           "rgb(244,165,130)"
          ],
          [
           0.4,
           "rgb(253,219,199)"
          ],
          [
           0.5,
           "rgb(247,247,247)"
          ],
          [
           0.6,
           "rgb(209,229,240)"
          ],
          [
           0.7,
           "rgb(146,197,222)"
          ],
          [
           0.8,
           "rgb(67,147,195)"
          ],
          [
           0.9,
           "rgb(33,102,172)"
          ],
          [
           1,
           "rgb(5,48,97)"
          ]
         ]
        },
        "legend": {
         "tracegroupgap": 0
        },
        "template": {
         "data": {
          "bar": [
           {
            "error_x": {
             "color": "#f2f5fa"
            },
            "error_y": {
             "color": "#f2f5fa"
            },
            "marker": {
             "line": {
              "color": "rgb(17,17,17)",
              "width": 0.5
             }
            },
            "type": "bar"
           }
          ],
          "barpolar": [
           {
            "marker": {
             "line": {
              "color": "rgb(17,17,17)",
              "width": 0.5
             }
            },
            "type": "barpolar"
           }
          ],
          "carpet": [
           {
            "aaxis": {
             "endlinecolor": "#A2B1C6",
             "gridcolor": "#506784",
             "linecolor": "#506784",
             "minorgridcolor": "#506784",
             "startlinecolor": "#A2B1C6"
            },
            "baxis": {
             "endlinecolor": "#A2B1C6",
             "gridcolor": "#506784",
             "linecolor": "#506784",
             "minorgridcolor": "#506784",
             "startlinecolor": "#A2B1C6"
            },
            "type": "carpet"
           }
          ],
          "choropleth": [
           {
            "colorbar": {
             "outlinewidth": 0,
             "ticks": ""
            },
            "type": "choropleth"
           }
          ],
          "contour": [
           {
            "colorbar": {
             "outlinewidth": 0,
             "ticks": ""
            },
            "colorscale": [
             [
              0,
              "#0d0887"
             ],
             [
              0.1111111111111111,
              "#46039f"
             ],
             [
              0.2222222222222222,
              "#7201a8"
             ],
             [
              0.3333333333333333,
              "#9c179e"
             ],
             [
              0.4444444444444444,
              "#bd3786"
             ],
             [
              0.5555555555555556,
              "#d8576b"
             ],
             [
              0.6666666666666666,
              "#ed7953"
             ],
             [
              0.7777777777777778,
              "#fb9f3a"
             ],
             [
              0.8888888888888888,
              "#fdca26"
             ],
             [
              1,
              "#f0f921"
             ]
            ],
            "type": "contour"
           }
          ],
          "contourcarpet": [
           {
            "colorbar": {
             "outlinewidth": 0,
             "ticks": ""
            },
            "type": "contourcarpet"
           }
          ],
          "heatmap": [
           {
            "colorbar": {
             "outlinewidth": 0,
             "ticks": ""
            },
            "colorscale": [
             [
              0,
              "#0d0887"
             ],
             [
              0.1111111111111111,
              "#46039f"
             ],
             [
              0.2222222222222222,
              "#7201a8"
             ],
             [
              0.3333333333333333,
              "#9c179e"
             ],
             [
              0.4444444444444444,
              "#bd3786"
             ],
             [
              0.5555555555555556,
              "#d8576b"
             ],
             [
              0.6666666666666666,
              "#ed7953"
             ],
             [
              0.7777777777777778,
              "#fb9f3a"
             ],
             [
              0.8888888888888888,
              "#fdca26"
             ],
             [
              1,
              "#f0f921"
             ]
            ],
            "type": "heatmap"
           }
          ],
          "heatmapgl": [
           {
            "colorbar": {
             "outlinewidth": 0,
             "ticks": ""
            },
            "colorscale": [
             [
              0,
              "#0d0887"
             ],
             [
              0.1111111111111111,
              "#46039f"
             ],
             [
              0.2222222222222222,
              "#7201a8"
             ],
             [
              0.3333333333333333,
              "#9c179e"
             ],
             [
              0.4444444444444444,
              "#bd3786"
             ],
             [
              0.5555555555555556,
              "#d8576b"
             ],
             [
              0.6666666666666666,
              "#ed7953"
             ],
             [
              0.7777777777777778,
              "#fb9f3a"
             ],
             [
              0.8888888888888888,
              "#fdca26"
             ],
             [
              1,
              "#f0f921"
             ]
            ],
            "type": "heatmapgl"
           }
          ],
          "histogram": [
           {
            "marker": {
             "colorbar": {
              "outlinewidth": 0,
              "ticks": ""
             }
            },
            "type": "histogram"
           }
          ],
          "histogram2d": [
           {
            "colorbar": {
             "outlinewidth": 0,
             "ticks": ""
            },
            "colorscale": [
             [
              0,
              "#0d0887"
             ],
             [
              0.1111111111111111,
              "#46039f"
             ],
             [
              0.2222222222222222,
              "#7201a8"
             ],
             [
              0.3333333333333333,
              "#9c179e"
             ],
             [
              0.4444444444444444,
              "#bd3786"
             ],
             [
              0.5555555555555556,
              "#d8576b"
             ],
             [
              0.6666666666666666,
              "#ed7953"
             ],
             [
              0.7777777777777778,
              "#fb9f3a"
             ],
             [
              0.8888888888888888,
              "#fdca26"
             ],
             [
              1,
              "#f0f921"
             ]
            ],
            "type": "histogram2d"
           }
          ],
          "histogram2dcontour": [
           {
            "colorbar": {
             "outlinewidth": 0,
             "ticks": ""
            },
            "colorscale": [
             [
              0,
              "#0d0887"
             ],
             [
              0.1111111111111111,
              "#46039f"
             ],
             [
              0.2222222222222222,
              "#7201a8"
             ],
             [
              0.3333333333333333,
              "#9c179e"
             ],
             [
              0.4444444444444444,
              "#bd3786"
             ],
             [
              0.5555555555555556,
              "#d8576b"
             ],
             [
              0.6666666666666666,
              "#ed7953"
             ],
             [
              0.7777777777777778,
              "#fb9f3a"
             ],
             [
              0.8888888888888888,
              "#fdca26"
             ],
             [
              1,
              "#f0f921"
             ]
            ],
            "type": "histogram2dcontour"
           }
          ],
          "mesh3d": [
           {
            "colorbar": {
             "outlinewidth": 0,
             "ticks": ""
            },
            "type": "mesh3d"
           }
          ],
          "parcoords": [
           {
            "line": {
             "colorbar": {
              "outlinewidth": 0,
              "ticks": ""
             }
            },
            "type": "parcoords"
           }
          ],
          "pie": [
           {
            "automargin": true,
            "type": "pie"
           }
          ],
          "scatter": [
           {
            "marker": {
             "line": {
              "color": "#283442"
             }
            },
            "type": "scatter"
           }
          ],
          "scatter3d": [
           {
            "line": {
             "colorbar": {
              "outlinewidth": 0,
              "ticks": ""
             }
            },
            "marker": {
             "colorbar": {
              "outlinewidth": 0,
              "ticks": ""
             }
            },
            "type": "scatter3d"
           }
          ],
          "scattercarpet": [
           {
            "marker": {
             "colorbar": {
              "outlinewidth": 0,
              "ticks": ""
             }
            },
            "type": "scattercarpet"
           }
          ],
          "scattergeo": [
           {
            "marker": {
             "colorbar": {
              "outlinewidth": 0,
              "ticks": ""
             }
            },
            "type": "scattergeo"
           }
          ],
          "scattergl": [
           {
            "marker": {
             "line": {
              "color": "#283442"
             }
            },
            "type": "scattergl"
           }
          ],
          "scattermapbox": [
           {
            "marker": {
             "colorbar": {
              "outlinewidth": 0,
              "ticks": ""
             }
            },
            "type": "scattermapbox"
           }
          ],
          "scatterpolar": [
           {
            "marker": {
             "colorbar": {
              "outlinewidth": 0,
              "ticks": ""
             }
            },
            "type": "scatterpolar"
           }
          ],
          "scatterpolargl": [
           {
            "marker": {
             "colorbar": {
              "outlinewidth": 0,
              "ticks": ""
             }
            },
            "type": "scatterpolargl"
           }
          ],
          "scatterternary": [
           {
            "marker": {
             "colorbar": {
              "outlinewidth": 0,
              "ticks": ""
             }
            },
            "type": "scatterternary"
           }
          ],
          "surface": [
           {
            "colorbar": {
             "outlinewidth": 0,
             "ticks": ""
            },
            "colorscale": [
             [
              0,
              "#0d0887"
             ],
             [
              0.1111111111111111,
              "#46039f"
             ],
             [
              0.2222222222222222,
              "#7201a8"
             ],
             [
              0.3333333333333333,
              "#9c179e"
             ],
             [
              0.4444444444444444,
              "#bd3786"
             ],
             [
              0.5555555555555556,
              "#d8576b"
             ],
             [
              0.6666666666666666,
              "#ed7953"
             ],
             [
              0.7777777777777778,
              "#fb9f3a"
             ],
             [
              0.8888888888888888,
              "#fdca26"
             ],
             [
              1,
              "#f0f921"
             ]
            ],
            "type": "surface"
           }
          ],
          "table": [
           {
            "cells": {
             "fill": {
              "color": "#506784"
             },
             "line": {
              "color": "rgb(17,17,17)"
             }
            },
            "header": {
             "fill": {
              "color": "#2a3f5f"
             },
             "line": {
              "color": "rgb(17,17,17)"
             }
            },
            "type": "table"
           }
          ]
         },
         "layout": {
          "annotationdefaults": {
           "arrowcolor": "#f2f5fa",
           "arrowhead": 0,
           "arrowwidth": 1
          },
          "coloraxis": {
           "colorbar": {
            "outlinewidth": 0,
            "ticks": ""
           }
          },
          "colorscale": {
           "diverging": [
            [
             0,
             "#8e0152"
            ],
            [
             0.1,
             "#c51b7d"
            ],
            [
             0.2,
             "#de77ae"
            ],
            [
             0.3,
             "#f1b6da"
            ],
            [
             0.4,
             "#fde0ef"
            ],
            [
             0.5,
             "#f7f7f7"
            ],
            [
             0.6,
             "#e6f5d0"
            ],
            [
             0.7,
             "#b8e186"
            ],
            [
             0.8,
             "#7fbc41"
            ],
            [
             0.9,
             "#4d9221"
            ],
            [
             1,
             "#276419"
            ]
           ],
           "sequential": [
            [
             0,
             "#0d0887"
            ],
            [
             0.1111111111111111,
             "#46039f"
            ],
            [
             0.2222222222222222,
             "#7201a8"
            ],
            [
             0.3333333333333333,
             "#9c179e"
            ],
            [
             0.4444444444444444,
             "#bd3786"
            ],
            [
             0.5555555555555556,
             "#d8576b"
            ],
            [
             0.6666666666666666,
             "#ed7953"
            ],
            [
             0.7777777777777778,
             "#fb9f3a"
            ],
            [
             0.8888888888888888,
             "#fdca26"
            ],
            [
             1,
             "#f0f921"
            ]
           ],
           "sequentialminus": [
            [
             0,
             "#0d0887"
            ],
            [
             0.1111111111111111,
             "#46039f"
            ],
            [
             0.2222222222222222,
             "#7201a8"
            ],
            [
             0.3333333333333333,
             "#9c179e"
            ],
            [
             0.4444444444444444,
             "#bd3786"
            ],
            [
             0.5555555555555556,
             "#d8576b"
            ],
            [
             0.6666666666666666,
             "#ed7953"
            ],
            [
             0.7777777777777778,
             "#fb9f3a"
            ],
            [
             0.8888888888888888,
             "#fdca26"
            ],
            [
             1,
             "#f0f921"
            ]
           ]
          },
          "colorway": [
           "#636efa",
           "#EF553B",
           "#00cc96",
           "#ab63fa",
           "#FFA15A",
           "#19d3f3",
           "#FF6692",
           "#B6E880",
           "#FF97FF",
           "#FECB52"
          ],
          "font": {
           "color": "#f2f5fa"
          },
          "geo": {
           "bgcolor": "rgb(17,17,17)",
           "lakecolor": "rgb(17,17,17)",
           "landcolor": "rgb(17,17,17)",
           "showlakes": true,
           "showland": true,
           "subunitcolor": "#506784"
          },
          "hoverlabel": {
           "align": "left"
          },
          "hovermode": "closest",
          "mapbox": {
           "style": "dark"
          },
          "paper_bgcolor": "rgb(17,17,17)",
          "plot_bgcolor": "rgb(17,17,17)",
          "polar": {
           "angularaxis": {
            "gridcolor": "#506784",
            "linecolor": "#506784",
            "ticks": ""
           },
           "bgcolor": "rgb(17,17,17)",
           "radialaxis": {
            "gridcolor": "#506784",
            "linecolor": "#506784",
            "ticks": ""
           }
          },
          "scene": {
           "xaxis": {
            "backgroundcolor": "rgb(17,17,17)",
            "gridcolor": "#506784",
            "gridwidth": 2,
            "linecolor": "#506784",
            "showbackground": true,
            "ticks": "",
            "zerolinecolor": "#C8D4E3"
           },
           "yaxis": {
            "backgroundcolor": "rgb(17,17,17)",
            "gridcolor": "#506784",
            "gridwidth": 2,
            "linecolor": "#506784",
            "showbackground": true,
            "ticks": "",
            "zerolinecolor": "#C8D4E3"
           },
           "zaxis": {
            "backgroundcolor": "rgb(17,17,17)",
            "gridcolor": "#506784",
            "gridwidth": 2,
            "linecolor": "#506784",
            "showbackground": true,
            "ticks": "",
            "zerolinecolor": "#C8D4E3"
           }
          },
          "shapedefaults": {
           "line": {
            "color": "#f2f5fa"
           }
          },
          "sliderdefaults": {
           "bgcolor": "#C8D4E3",
           "bordercolor": "rgb(17,17,17)",
           "borderwidth": 1,
           "tickwidth": 0
          },
          "ternary": {
           "aaxis": {
            "gridcolor": "#506784",
            "linecolor": "#506784",
            "ticks": ""
           },
           "baxis": {
            "gridcolor": "#506784",
            "linecolor": "#506784",
            "ticks": ""
           },
           "bgcolor": "rgb(17,17,17)",
           "caxis": {
            "gridcolor": "#506784",
            "linecolor": "#506784",
            "ticks": ""
           }
          },
          "title": {
           "x": 0.05
          },
          "updatemenudefaults": {
           "bgcolor": "#506784",
           "borderwidth": 0
          },
          "xaxis": {
           "automargin": true,
           "gridcolor": "#283442",
           "linecolor": "#506784",
           "ticks": "",
           "title": {
            "standoff": 15
           },
           "zerolinecolor": "#283442",
           "zerolinewidth": 2
          },
          "yaxis": {
           "automargin": true,
           "gridcolor": "#283442",
           "linecolor": "#506784",
           "ticks": "",
           "title": {
            "standoff": 15
           },
           "zerolinecolor": "#283442",
           "zerolinewidth": 2
          }
         }
        },
        "title": {
         "text": "Total Matches Won"
        }
       }
      }
     },
     "metadata": {}
    }
   ],
   "source": [
    "import plotly.express as px\n",
    "import matplotlib.pyplot as plt \n",
    "\n",
    "#plt.rcParams['font.size'] = (10, 6)\n",
    "\n",
    "df = query4[query4['Won'] > 0]\n",
    "\n",
    "fig = px.treemap(\n",
    "    df,\n",
    "    path = ['Country', 'Team'],\n",
    "    values='Won',\n",
    "    color='Won',\n",
    "    color_continuous_scale='RdBu',\n",
    "    hover_data=['Won', 'Lost', 'Tie'],\n",
    "    template='plotly_dark',\n",
    "    title='Total Matches Won'\n",
    ")\n",
    "fig.show()"
   ]
  },
  {
   "cell_type": "code",
   "execution_count": 21,
   "metadata": {},
   "outputs": [
    {
     "output_type": "display_data",
     "data": {
      "application/vnd.plotly.v1+json": {
       "config": {
        "plotlyServerURL": "https://plot.ly"
       },
       "data": [
        {
         "alignmentgroup": "True",
         "hovertemplate": "Season=2010/2011<br>Country=%{x}<br>Won=%{y}<extra></extra>",
         "legendgroup": "2010/2011",
         "marker": {
          "color": "rgb(235, 207, 52)"
         },
         "name": "2010/2011",
         "offsetgroup": "2010/2011",
         "orientation": "v",
         "showlegend": true,
         "textposition": "auto",
         "type": "bar",
         "x": [
          "Spain",
          "England",
          "Italy",
          "Netherlands",
          "France",
          "Germany",
          "Poland",
          "Belgium",
          "Portugal",
          "Scotland",
          "Switzerland"
         ],
         "xaxis": "x",
         "y": [
          197,
          179,
          179,
          160,
          157,
          141,
          124,
          116,
          101,
          94,
          72
         ],
         "yaxis": "y"
        },
        {
         "alignmentgroup": "True",
         "hovertemplate": "Season=2009/2010<br>Country=%{x}<br>Won=%{y}<extra></extra>",
         "legendgroup": "2009/2010",
         "marker": {
          "color": "rgb(0, 0, 128)"
         },
         "name": "2009/2010",
         "offsetgroup": "2009/2010",
         "orientation": "v",
         "showlegend": true,
         "textposition": "auto",
         "type": "bar",
         "x": [
          "Spain",
          "England",
          "Italy",
          "France",
          "Netherlands",
          "Germany",
          "Poland",
          "Portugal",
          "Switzerland",
          "Belgium",
          "Scotland"
         ],
         "xaxis": "x",
         "y": [
          194,
          193,
          186,
          179,
          153,
          125,
          108,
          104,
          99,
          97,
          94
         ],
         "yaxis": "y"
        },
        {
         "alignmentgroup": "True",
         "hovertemplate": "Season=2008/2009<br>Country=%{x}<br>Won=%{y}<extra></extra>",
         "legendgroup": "2008/2009",
         "marker": {
          "color": "#00cc96"
         },
         "name": "2008/2009",
         "offsetgroup": "2008/2009",
         "orientation": "v",
         "showlegend": true,
         "textposition": "auto",
         "type": "bar",
         "x": [
          "Italy",
          "Spain",
          "England",
          "France",
          "Belgium",
          "Germany",
          "Netherlands",
          "Poland",
          "Portugal",
          "Scotland",
          "Switzerland"
         ],
         "xaxis": "x",
         "y": [
          192,
          184,
          173,
          165,
          149,
          147,
          147,
          119,
          107,
          96,
          87
         ],
         "yaxis": "y"
        },
        {
         "alignmentgroup": "True",
         "hovertemplate": "Season=2012/2013<br>Country=%{x}<br>Won=%{y}<extra></extra>",
         "legendgroup": "2012/2013",
         "marker": {
          "color": "#ab63fa"
         },
         "name": "2012/2013",
         "offsetgroup": "2012/2013",
         "orientation": "v",
         "showlegend": true,
         "textposition": "auto",
         "type": "bar",
         "x": [
          "Spain",
          "Italy",
          "France",
          "England",
          "Netherlands",
          "Germany",
          "Portugal",
          "Belgium",
          "Poland",
          "Scotland",
          "Switzerland"
         ],
         "xaxis": "x",
         "y": [
          189,
          177,
          170,
          166,
          137,
          130,
          103,
          102,
          97,
          89,
          84
         ],
         "yaxis": "y"
        },
        {
         "alignmentgroup": "True",
         "hovertemplate": "Season=2011/2012<br>Country=%{x}<br>Won=%{y}<extra></extra>",
         "legendgroup": "2011/2012",
         "marker": {
          "color": "#FFA15A"
         },
         "name": "2011/2012",
         "offsetgroup": "2011/2012",
         "orientation": "v",
         "showlegend": true,
         "textposition": "auto",
         "type": "bar",
         "x": [
          "Spain",
          "France",
          "England",
          "Italy",
          "Netherlands",
          "Germany",
          "Belgium",
          "Portugal",
          "Poland",
          "Scotland",
          "Switzerland"
         ],
         "xaxis": "x",
         "y": [
          188,
          179,
          171,
          165,
          155,
          139,
          119,
          115,
          107,
          90,
          70
         ],
         "yaxis": "y"
        },
        {
         "alignmentgroup": "True",
         "hovertemplate": "Season=2015/2016<br>Country=%{x}<br>Won=%{y}<extra></extra>",
         "legendgroup": "2015/2016",
         "marker": {
          "color": "#19d3f3"
         },
         "name": "2015/2016",
         "offsetgroup": "2015/2016",
         "orientation": "v",
         "showlegend": true,
         "textposition": "auto",
         "type": "bar",
         "x": [
          "Spain",
          "Italy",
          "France",
          "England",
          "Netherlands",
          "Germany",
          "Portugal",
          "Belgium",
          "Scotland",
          "Poland",
          "Switzerland"
         ],
         "xaxis": "x",
         "y": [
          183,
          175,
          160,
          157,
          137,
          135,
          133,
          115,
          93,
          91,
          80
         ],
         "yaxis": "y"
        },
        {
         "alignmentgroup": "True",
         "hovertemplate": "Season=2014/2015<br>Country=%{x}<br>Won=%{y}<extra></extra>",
         "legendgroup": "2014/2015",
         "marker": {
          "color": "#FF6692"
         },
         "name": "2014/2015",
         "offsetgroup": "2014/2015",
         "orientation": "v",
         "showlegend": true,
         "textposition": "auto",
         "type": "bar",
         "x": [
          "France",
          "England",
          "Spain",
          "Italy",
          "Germany",
          "Netherlands",
          "Portugal",
          "Poland",
          "Belgium",
          "Scotland",
          "Switzerland"
         ],
         "xaxis": "x",
         "y": [
          181,
          172,
          171,
          152,
          145,
          138,
          137,
          114,
          106,
          102,
          76
         ],
         "yaxis": "y"
        },
        {
         "alignmentgroup": "True",
         "hovertemplate": "Season=2013/2014<br>Country=%{x}<br>Won=%{y}<extra></extra>",
         "legendgroup": "2013/2014",
         "marker": {
          "color": "#B6E880"
         },
         "name": "2013/2014",
         "offsetgroup": "2013/2014",
         "orientation": "v",
         "showlegend": true,
         "textposition": "auto",
         "type": "bar",
         "x": [
          "Italy",
          "England",
          "Spain",
          "France",
          "Germany",
          "Netherlands",
          "Poland",
          "Portugal",
          "Scotland",
          "Switzerland",
          "Belgium"
         ],
         "xaxis": "x",
         "y": [
          181,
          179,
          179,
          168,
          145,
          144,
          110,
          108,
          102,
          82,
          6
         ],
         "yaxis": "y"
        }
       ],
       "layout": {
        "barmode": "relative",
        "legend": {
         "bgcolor": "rgb(246, 228, 129)",
         "font": {
          "color": "black"
         },
         "title": {
          "text": "All Seasons"
         },
         "tracegroupgap": 0,
         "x": 1.01,
         "y": 0.99
        },
        "showlegend": true,
        "template": {
         "data": {
          "bar": [
           {
            "error_x": {
             "color": "#2a3f5f"
            },
            "error_y": {
             "color": "#2a3f5f"
            },
            "marker": {
             "line": {
              "color": "#E5ECF6",
              "width": 0.5
             }
            },
            "type": "bar"
           }
          ],
          "barpolar": [
           {
            "marker": {
             "line": {
              "color": "#E5ECF6",
              "width": 0.5
             }
            },
            "type": "barpolar"
           }
          ],
          "carpet": [
           {
            "aaxis": {
             "endlinecolor": "#2a3f5f",
             "gridcolor": "white",
             "linecolor": "white",
             "minorgridcolor": "white",
             "startlinecolor": "#2a3f5f"
            },
            "baxis": {
             "endlinecolor": "#2a3f5f",
             "gridcolor": "white",
             "linecolor": "white",
             "minorgridcolor": "white",
             "startlinecolor": "#2a3f5f"
            },
            "type": "carpet"
           }
          ],
          "choropleth": [
           {
            "colorbar": {
             "outlinewidth": 0,
             "ticks": ""
            },
            "type": "choropleth"
           }
          ],
          "contour": [
           {
            "colorbar": {
             "outlinewidth": 0,
             "ticks": ""
            },
            "colorscale": [
             [
              0,
              "#0d0887"
             ],
             [
              0.1111111111111111,
              "#46039f"
             ],
             [
              0.2222222222222222,
              "#7201a8"
             ],
             [
              0.3333333333333333,
              "#9c179e"
             ],
             [
              0.4444444444444444,
              "#bd3786"
             ],
             [
              0.5555555555555556,
              "#d8576b"
             ],
             [
              0.6666666666666666,
              "#ed7953"
             ],
             [
              0.7777777777777778,
              "#fb9f3a"
             ],
             [
              0.8888888888888888,
              "#fdca26"
             ],
             [
              1,
              "#f0f921"
             ]
            ],
            "type": "contour"
           }
          ],
          "contourcarpet": [
           {
            "colorbar": {
             "outlinewidth": 0,
             "ticks": ""
            },
            "type": "contourcarpet"
           }
          ],
          "heatmap": [
           {
            "colorbar": {
             "outlinewidth": 0,
             "ticks": ""
            },
            "colorscale": [
             [
              0,
              "#0d0887"
             ],
             [
              0.1111111111111111,
              "#46039f"
             ],
             [
              0.2222222222222222,
              "#7201a8"
             ],
             [
              0.3333333333333333,
              "#9c179e"
             ],
             [
              0.4444444444444444,
              "#bd3786"
             ],
             [
              0.5555555555555556,
              "#d8576b"
             ],
             [
              0.6666666666666666,
              "#ed7953"
             ],
             [
              0.7777777777777778,
              "#fb9f3a"
             ],
             [
              0.8888888888888888,
              "#fdca26"
             ],
             [
              1,
              "#f0f921"
             ]
            ],
            "type": "heatmap"
           }
          ],
          "heatmapgl": [
           {
            "colorbar": {
             "outlinewidth": 0,
             "ticks": ""
            },
            "colorscale": [
             [
              0,
              "#0d0887"
             ],
             [
              0.1111111111111111,
              "#46039f"
             ],
             [
              0.2222222222222222,
              "#7201a8"
             ],
             [
              0.3333333333333333,
              "#9c179e"
             ],
             [
              0.4444444444444444,
              "#bd3786"
             ],
             [
              0.5555555555555556,
              "#d8576b"
             ],
             [
              0.6666666666666666,
              "#ed7953"
             ],
             [
              0.7777777777777778,
              "#fb9f3a"
             ],
             [
              0.8888888888888888,
              "#fdca26"
             ],
             [
              1,
              "#f0f921"
             ]
            ],
            "type": "heatmapgl"
           }
          ],
          "histogram": [
           {
            "marker": {
             "colorbar": {
              "outlinewidth": 0,
              "ticks": ""
             }
            },
            "type": "histogram"
           }
          ],
          "histogram2d": [
           {
            "colorbar": {
             "outlinewidth": 0,
             "ticks": ""
            },
            "colorscale": [
             [
              0,
              "#0d0887"
             ],
             [
              0.1111111111111111,
              "#46039f"
             ],
             [
              0.2222222222222222,
              "#7201a8"
             ],
             [
              0.3333333333333333,
              "#9c179e"
             ],
             [
              0.4444444444444444,
              "#bd3786"
             ],
             [
              0.5555555555555556,
              "#d8576b"
             ],
             [
              0.6666666666666666,
              "#ed7953"
             ],
             [
              0.7777777777777778,
              "#fb9f3a"
             ],
             [
              0.8888888888888888,
              "#fdca26"
             ],
             [
              1,
              "#f0f921"
             ]
            ],
            "type": "histogram2d"
           }
          ],
          "histogram2dcontour": [
           {
            "colorbar": {
             "outlinewidth": 0,
             "ticks": ""
            },
            "colorscale": [
             [
              0,
              "#0d0887"
             ],
             [
              0.1111111111111111,
              "#46039f"
             ],
             [
              0.2222222222222222,
              "#7201a8"
             ],
             [
              0.3333333333333333,
              "#9c179e"
             ],
             [
              0.4444444444444444,
              "#bd3786"
             ],
             [
              0.5555555555555556,
              "#d8576b"
             ],
             [
              0.6666666666666666,
              "#ed7953"
             ],
             [
              0.7777777777777778,
              "#fb9f3a"
             ],
             [
              0.8888888888888888,
              "#fdca26"
             ],
             [
              1,
              "#f0f921"
             ]
            ],
            "type": "histogram2dcontour"
           }
          ],
          "mesh3d": [
           {
            "colorbar": {
             "outlinewidth": 0,
             "ticks": ""
            },
            "type": "mesh3d"
           }
          ],
          "parcoords": [
           {
            "line": {
             "colorbar": {
              "outlinewidth": 0,
              "ticks": ""
             }
            },
            "type": "parcoords"
           }
          ],
          "pie": [
           {
            "automargin": true,
            "type": "pie"
           }
          ],
          "scatter": [
           {
            "marker": {
             "colorbar": {
              "outlinewidth": 0,
              "ticks": ""
             }
            },
            "type": "scatter"
           }
          ],
          "scatter3d": [
           {
            "line": {
             "colorbar": {
              "outlinewidth": 0,
              "ticks": ""
             }
            },
            "marker": {
             "colorbar": {
              "outlinewidth": 0,
              "ticks": ""
             }
            },
            "type": "scatter3d"
           }
          ],
          "scattercarpet": [
           {
            "marker": {
             "colorbar": {
              "outlinewidth": 0,
              "ticks": ""
             }
            },
            "type": "scattercarpet"
           }
          ],
          "scattergeo": [
           {
            "marker": {
             "colorbar": {
              "outlinewidth": 0,
              "ticks": ""
             }
            },
            "type": "scattergeo"
           }
          ],
          "scattergl": [
           {
            "marker": {
             "colorbar": {
              "outlinewidth": 0,
              "ticks": ""
             }
            },
            "type": "scattergl"
           }
          ],
          "scattermapbox": [
           {
            "marker": {
             "colorbar": {
              "outlinewidth": 0,
              "ticks": ""
             }
            },
            "type": "scattermapbox"
           }
          ],
          "scatterpolar": [
           {
            "marker": {
             "colorbar": {
              "outlinewidth": 0,
              "ticks": ""
             }
            },
            "type": "scatterpolar"
           }
          ],
          "scatterpolargl": [
           {
            "marker": {
             "colorbar": {
              "outlinewidth": 0,
              "ticks": ""
             }
            },
            "type": "scatterpolargl"
           }
          ],
          "scatterternary": [
           {
            "marker": {
             "colorbar": {
              "outlinewidth": 0,
              "ticks": ""
             }
            },
            "type": "scatterternary"
           }
          ],
          "surface": [
           {
            "colorbar": {
             "outlinewidth": 0,
             "ticks": ""
            },
            "colorscale": [
             [
              0,
              "#0d0887"
             ],
             [
              0.1111111111111111,
              "#46039f"
             ],
             [
              0.2222222222222222,
              "#7201a8"
             ],
             [
              0.3333333333333333,
              "#9c179e"
             ],
             [
              0.4444444444444444,
              "#bd3786"
             ],
             [
              0.5555555555555556,
              "#d8576b"
             ],
             [
              0.6666666666666666,
              "#ed7953"
             ],
             [
              0.7777777777777778,
              "#fb9f3a"
             ],
             [
              0.8888888888888888,
              "#fdca26"
             ],
             [
              1,
              "#f0f921"
             ]
            ],
            "type": "surface"
           }
          ],
          "table": [
           {
            "cells": {
             "fill": {
              "color": "#EBF0F8"
             },
             "line": {
              "color": "white"
             }
            },
            "header": {
             "fill": {
              "color": "#C8D4E3"
             },
             "line": {
              "color": "white"
             }
            },
            "type": "table"
           }
          ]
         },
         "layout": {
          "annotationdefaults": {
           "arrowcolor": "#2a3f5f",
           "arrowhead": 0,
           "arrowwidth": 1
          },
          "coloraxis": {
           "colorbar": {
            "outlinewidth": 0,
            "ticks": ""
           }
          },
          "colorscale": {
           "diverging": [
            [
             0,
             "#8e0152"
            ],
            [
             0.1,
             "#c51b7d"
            ],
            [
             0.2,
             "#de77ae"
            ],
            [
             0.3,
             "#f1b6da"
            ],
            [
             0.4,
             "#fde0ef"
            ],
            [
             0.5,
             "#f7f7f7"
            ],
            [
             0.6,
             "#e6f5d0"
            ],
            [
             0.7,
             "#b8e186"
            ],
            [
             0.8,
             "#7fbc41"
            ],
            [
             0.9,
             "#4d9221"
            ],
            [
             1,
             "#276419"
            ]
           ],
           "sequential": [
            [
             0,
             "#0d0887"
            ],
            [
             0.1111111111111111,
             "#46039f"
            ],
            [
             0.2222222222222222,
             "#7201a8"
            ],
            [
             0.3333333333333333,
             "#9c179e"
            ],
            [
             0.4444444444444444,
             "#bd3786"
            ],
            [
             0.5555555555555556,
             "#d8576b"
            ],
            [
             0.6666666666666666,
             "#ed7953"
            ],
            [
             0.7777777777777778,
             "#fb9f3a"
            ],
            [
             0.8888888888888888,
             "#fdca26"
            ],
            [
             1,
             "#f0f921"
            ]
           ],
           "sequentialminus": [
            [
             0,
             "#0d0887"
            ],
            [
             0.1111111111111111,
             "#46039f"
            ],
            [
             0.2222222222222222,
             "#7201a8"
            ],
            [
             0.3333333333333333,
             "#9c179e"
            ],
            [
             0.4444444444444444,
             "#bd3786"
            ],
            [
             0.5555555555555556,
             "#d8576b"
            ],
            [
             0.6666666666666666,
             "#ed7953"
            ],
            [
             0.7777777777777778,
             "#fb9f3a"
            ],
            [
             0.8888888888888888,
             "#fdca26"
            ],
            [
             1,
             "#f0f921"
            ]
           ]
          },
          "colorway": [
           "#636efa",
           "#EF553B",
           "#00cc96",
           "#ab63fa",
           "#FFA15A",
           "#19d3f3",
           "#FF6692",
           "#B6E880",
           "#FF97FF",
           "#FECB52"
          ],
          "font": {
           "color": "#2a3f5f"
          },
          "geo": {
           "bgcolor": "white",
           "lakecolor": "white",
           "landcolor": "#E5ECF6",
           "showlakes": true,
           "showland": true,
           "subunitcolor": "white"
          },
          "hoverlabel": {
           "align": "left"
          },
          "hovermode": "closest",
          "mapbox": {
           "style": "light"
          },
          "paper_bgcolor": "white",
          "plot_bgcolor": "#E5ECF6",
          "polar": {
           "angularaxis": {
            "gridcolor": "white",
            "linecolor": "white",
            "ticks": ""
           },
           "bgcolor": "#E5ECF6",
           "radialaxis": {
            "gridcolor": "white",
            "linecolor": "white",
            "ticks": ""
           }
          },
          "scene": {
           "xaxis": {
            "backgroundcolor": "#E5ECF6",
            "gridcolor": "white",
            "gridwidth": 2,
            "linecolor": "white",
            "showbackground": true,
            "ticks": "",
            "zerolinecolor": "white"
           },
           "yaxis": {
            "backgroundcolor": "#E5ECF6",
            "gridcolor": "white",
            "gridwidth": 2,
            "linecolor": "white",
            "showbackground": true,
            "ticks": "",
            "zerolinecolor": "white"
           },
           "zaxis": {
            "backgroundcolor": "#E5ECF6",
            "gridcolor": "white",
            "gridwidth": 2,
            "linecolor": "white",
            "showbackground": true,
            "ticks": "",
            "zerolinecolor": "white"
           }
          },
          "shapedefaults": {
           "line": {
            "color": "#2a3f5f"
           }
          },
          "ternary": {
           "aaxis": {
            "gridcolor": "white",
            "linecolor": "white",
            "ticks": ""
           },
           "baxis": {
            "gridcolor": "white",
            "linecolor": "white",
            "ticks": ""
           },
           "bgcolor": "#E5ECF6",
           "caxis": {
            "gridcolor": "white",
            "linecolor": "white",
            "ticks": ""
           }
          },
          "title": {
           "x": 0.05
          },
          "xaxis": {
           "automargin": true,
           "gridcolor": "white",
           "linecolor": "white",
           "ticks": "",
           "title": {
            "standoff": 15
           },
           "zerolinecolor": "white",
           "zerolinewidth": 2
          },
          "yaxis": {
           "automargin": true,
           "gridcolor": "white",
           "linecolor": "white",
           "ticks": "",
           "title": {
            "standoff": 15
           },
           "zerolinecolor": "white",
           "zerolinewidth": 2
          }
         }
        },
        "title": {
         "text": "Total Matches Won Country wise"
        },
        "xaxis": {
         "anchor": "y",
         "domain": [
          0,
          1
         ],
         "title": {
          "text": "Countries"
         }
        },
        "yaxis": {
         "anchor": "x",
         "domain": [
          0,
          1
         ],
         "title": {
          "text": "Matches Won"
         }
        }
       }
      }
     },
     "metadata": {}
    }
   ],
   "source": [
    "fig = px.bar(\n",
    "    query8,\n",
    "    x='Country', y='Won',\n",
    "    title='Total Matches Won Country wise',\n",
    "    color_discrete_map={\n",
    "        '2009/2010': 'rgb(0, 0, 128)',\n",
    "        '2010/2011': 'rgb(235, 207, 52)'},\n",
    "        color='Season'\n",
    "        #template='plotly_dark'\n",
    "        )\n",
    "\n",
    "fig.update_layout({\n",
    "    'showlegend': True,\n",
    "    'legend': {\n",
    "        'title': 'All Seasons',\n",
    "        'x': 1.01, 'y': 0.99,\n",
    "        'bgcolor': 'rgb(246, 228, 129)',\n",
    "         'font': {'color': 'black'}\n",
    "    }\n",
    "})\n",
    "fig.update_xaxes(title_text='Countries')\n",
    "fig.update_yaxes(title_text='Matches Won')\n"
   ]
  },
  {
   "cell_type": "code",
   "execution_count": null,
   "metadata": {},
   "outputs": [],
   "source": []
  }
 ]
}